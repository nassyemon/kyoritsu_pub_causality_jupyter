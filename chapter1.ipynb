{
 "cells": [
  {
   "cell_type": "code",
   "execution_count": 1,
   "id": "7ee2dead-a2c9-45df-b426-fab6066694b0",
   "metadata": {},
   "outputs": [],
   "source": [
    "import pandas as pd\n",
    "import numpy as np"
   ]
  },
  {
   "cell_type": "markdown",
   "id": "c95a4228-497d-491a-a109-3710d39f26e7",
   "metadata": {},
   "source": [
    "## 1.9.3 Pandasへのデータ読み込み方法"
   ]
  },
  {
   "cell_type": "markdown",
   "id": "a94c5f92-241e-4f41-9eb8-44038c19d045",
   "metadata": {},
   "source": [
    "### ※非推奨 教科書（R）っぽい記法（表1.2）"
   ]
  },
  {
   "cell_type": "code",
   "execution_count": 2,
   "id": "a3d95aab-517b-4b24-bc36-d45086e5fbe5",
   "metadata": {},
   "outputs": [
    {
     "data": {
      "text/html": [
       "<div>\n",
       "<style scoped>\n",
       "    .dataframe tbody tr th:only-of-type {\n",
       "        vertical-align: middle;\n",
       "    }\n",
       "\n",
       "    .dataframe tbody tr th {\n",
       "        vertical-align: top;\n",
       "    }\n",
       "\n",
       "    .dataframe thead th {\n",
       "        text-align: right;\n",
       "    }\n",
       "</style>\n",
       "<table border=\"1\" class=\"dataframe\">\n",
       "  <thead>\n",
       "    <tr style=\"text-align: right;\">\n",
       "      <th></th>\n",
       "      <th>x1</th>\n",
       "      <th>y1</th>\n",
       "    </tr>\n",
       "  </thead>\n",
       "  <tbody>\n",
       "    <tr>\n",
       "      <th>0</th>\n",
       "      <td>63</td>\n",
       "      <td>63</td>\n",
       "    </tr>\n",
       "    <tr>\n",
       "      <th>1</th>\n",
       "      <td>56</td>\n",
       "      <td>66</td>\n",
       "    </tr>\n",
       "    <tr>\n",
       "      <th>2</th>\n",
       "      <td>51</td>\n",
       "      <td>61</td>\n",
       "    </tr>\n",
       "    <tr>\n",
       "      <th>3</th>\n",
       "      <td>50</td>\n",
       "      <td>60</td>\n",
       "    </tr>\n",
       "    <tr>\n",
       "      <th>4</th>\n",
       "      <td>42</td>\n",
       "      <td>52</td>\n",
       "    </tr>\n",
       "  </tbody>\n",
       "</table>\n",
       "</div>"
      ],
      "text/plain": [
       "   x1  y1\n",
       "0  63  63\n",
       "1  56  66\n",
       "2  51  61\n",
       "3  50  60\n",
       "4  42  52"
      ]
     },
     "execution_count": 2,
     "metadata": {},
     "output_type": "execute_result"
    }
   ],
   "source": [
    "x1 = np.array([63, 56, 51, 50, 42])\n",
    "y1 = np.array([63, 66, 61, 60, 52])\n",
    "\n",
    "df1 = pd.DataFrame(np.array([x1, y1]).T, columns=['x1', 'y1'])\n",
    "df1"
   ]
  },
  {
   "cell_type": "markdown",
   "id": "639066ab-08c5-4614-ab5b-c43dbd366289",
   "metadata": {},
   "source": [
    "### 普通のPandasの使い方"
   ]
  },
  {
   "cell_type": "code",
   "execution_count": 3,
   "id": "375de41c-9b01-4ca2-a7cb-b1bfefdd9508",
   "metadata": {},
   "outputs": [
    {
     "data": {
      "text/html": [
       "<div>\n",
       "<style scoped>\n",
       "    .dataframe tbody tr th:only-of-type {\n",
       "        vertical-align: middle;\n",
       "    }\n",
       "\n",
       "    .dataframe tbody tr th {\n",
       "        vertical-align: top;\n",
       "    }\n",
       "\n",
       "    .dataframe thead th {\n",
       "        text-align: right;\n",
       "    }\n",
       "</style>\n",
       "<table border=\"1\" class=\"dataframe\">\n",
       "  <thead>\n",
       "    <tr style=\"text-align: right;\">\n",
       "      <th></th>\n",
       "      <th>x1</th>\n",
       "      <th>y1</th>\n",
       "    </tr>\n",
       "  </thead>\n",
       "  <tbody>\n",
       "    <tr>\n",
       "      <th>0</th>\n",
       "      <td>63</td>\n",
       "      <td>63</td>\n",
       "    </tr>\n",
       "    <tr>\n",
       "      <th>1</th>\n",
       "      <td>56</td>\n",
       "      <td>66</td>\n",
       "    </tr>\n",
       "    <tr>\n",
       "      <th>2</th>\n",
       "      <td>51</td>\n",
       "      <td>61</td>\n",
       "    </tr>\n",
       "    <tr>\n",
       "      <th>3</th>\n",
       "      <td>50</td>\n",
       "      <td>60</td>\n",
       "    </tr>\n",
       "    <tr>\n",
       "      <th>4</th>\n",
       "      <td>42</td>\n",
       "      <td>52</td>\n",
       "    </tr>\n",
       "  </tbody>\n",
       "</table>\n",
       "</div>"
      ],
      "text/plain": [
       "   x1  y1\n",
       "0  63  63\n",
       "1  56  66\n",
       "2  51  61\n",
       "3  50  60\n",
       "4  42  52"
      ]
     },
     "metadata": {},
     "output_type": "display_data"
    }
   ],
   "source": [
    "# Dictからの自動変換を積極的に利用する\n",
    "df1 = pd.DataFrame({\n",
    "    'x1': [63, 56, 51, 50, 42],\n",
    "    'y1': [63, 66, 61, 60, 52],\n",
    "})\n",
    "display(df1) # display($variable)で良い感じにoutputしてくれる"
   ]
  },
  {
   "cell_type": "markdown",
   "id": "c5f3b11c-b4b5-45b2-bcf2-fdef6d734e2a",
   "metadata": {},
   "source": [
    "### ファイルからの読み込み(表1.3)"
   ]
  },
  {
   "cell_type": "code",
   "execution_count": 4,
   "id": "d07f8fe2-d3da-457a-b480-d93fa9eda072",
   "metadata": {},
   "outputs": [
    {
     "data": {
      "text/html": [
       "<div>\n",
       "<style scoped>\n",
       "    .dataframe tbody tr th:only-of-type {\n",
       "        vertical-align: middle;\n",
       "    }\n",
       "\n",
       "    .dataframe tbody tr th {\n",
       "        vertical-align: top;\n",
       "    }\n",
       "\n",
       "    .dataframe thead th {\n",
       "        text-align: right;\n",
       "    }\n",
       "</style>\n",
       "<table border=\"1\" class=\"dataframe\">\n",
       "  <thead>\n",
       "    <tr style=\"text-align: right;\">\n",
       "      <th></th>\n",
       "      <th>x1</th>\n",
       "      <th>y1</th>\n",
       "    </tr>\n",
       "  </thead>\n",
       "  <tbody>\n",
       "    <tr>\n",
       "      <th>0</th>\n",
       "      <td>63</td>\n",
       "      <td>63</td>\n",
       "    </tr>\n",
       "    <tr>\n",
       "      <th>1</th>\n",
       "      <td>56</td>\n",
       "      <td>66</td>\n",
       "    </tr>\n",
       "    <tr>\n",
       "      <th>2</th>\n",
       "      <td>51</td>\n",
       "      <td>61</td>\n",
       "    </tr>\n",
       "    <tr>\n",
       "      <th>3</th>\n",
       "      <td>50</td>\n",
       "      <td>60</td>\n",
       "    </tr>\n",
       "    <tr>\n",
       "      <th>4</th>\n",
       "      <td>42</td>\n",
       "      <td>52</td>\n",
       "    </tr>\n",
       "  </tbody>\n",
       "</table>\n",
       "</div>"
      ],
      "text/plain": [
       "   x1  y1\n",
       "0  63  63\n",
       "1  56  66\n",
       "2  51  61\n",
       "3  50  60\n",
       "4  42  52"
      ]
     },
     "metadata": {},
     "output_type": "display_data"
    }
   ],
   "source": [
    "# file.choose的なことをさせる方法もあるが、ご利益を感じたことはマジでない\n",
    "# 一応→https://qiita.com/tomcat666/items/1b64aa91dcd45ad91540\n",
    "\n",
    "data01 = pd.read_csv('./causality/data01.csv')\n",
    "display(data01)"
   ]
  },
  {
   "cell_type": "markdown",
   "id": "8b0bc4bb-a02e-4c9a-b820-75d75163435f",
   "metadata": {},
   "source": [
    "#### head/tail:上位N行/下位N行を表示"
   ]
  },
  {
   "cell_type": "code",
   "execution_count": 5,
   "id": "a7efab8f-0938-426e-8a2f-3cded87aca34",
   "metadata": {},
   "outputs": [
    {
     "data": {
      "text/html": [
       "<div>\n",
       "<style scoped>\n",
       "    .dataframe tbody tr th:only-of-type {\n",
       "        vertical-align: middle;\n",
       "    }\n",
       "\n",
       "    .dataframe tbody tr th {\n",
       "        vertical-align: top;\n",
       "    }\n",
       "\n",
       "    .dataframe thead th {\n",
       "        text-align: right;\n",
       "    }\n",
       "</style>\n",
       "<table border=\"1\" class=\"dataframe\">\n",
       "  <thead>\n",
       "    <tr style=\"text-align: right;\">\n",
       "      <th></th>\n",
       "      <th>x1</th>\n",
       "      <th>y1</th>\n",
       "    </tr>\n",
       "  </thead>\n",
       "  <tbody>\n",
       "    <tr>\n",
       "      <th>0</th>\n",
       "      <td>63</td>\n",
       "      <td>63</td>\n",
       "    </tr>\n",
       "    <tr>\n",
       "      <th>1</th>\n",
       "      <td>56</td>\n",
       "      <td>66</td>\n",
       "    </tr>\n",
       "  </tbody>\n",
       "</table>\n",
       "</div>"
      ],
      "text/plain": [
       "   x1  y1\n",
       "0  63  63\n",
       "1  56  66"
      ]
     },
     "metadata": {},
     "output_type": "display_data"
    },
    {
     "data": {
      "text/html": [
       "<div>\n",
       "<style scoped>\n",
       "    .dataframe tbody tr th:only-of-type {\n",
       "        vertical-align: middle;\n",
       "    }\n",
       "\n",
       "    .dataframe tbody tr th {\n",
       "        vertical-align: top;\n",
       "    }\n",
       "\n",
       "    .dataframe thead th {\n",
       "        text-align: right;\n",
       "    }\n",
       "</style>\n",
       "<table border=\"1\" class=\"dataframe\">\n",
       "  <thead>\n",
       "    <tr style=\"text-align: right;\">\n",
       "      <th></th>\n",
       "      <th>x1</th>\n",
       "      <th>y1</th>\n",
       "    </tr>\n",
       "  </thead>\n",
       "  <tbody>\n",
       "    <tr>\n",
       "      <th>3</th>\n",
       "      <td>50</td>\n",
       "      <td>60</td>\n",
       "    </tr>\n",
       "    <tr>\n",
       "      <th>4</th>\n",
       "      <td>42</td>\n",
       "      <td>52</td>\n",
       "    </tr>\n",
       "  </tbody>\n",
       "</table>\n",
       "</div>"
      ],
      "text/plain": [
       "   x1  y1\n",
       "3  50  60\n",
       "4  42  52"
      ]
     },
     "metadata": {},
     "output_type": "display_data"
    }
   ],
   "source": [
    "display(data01.head(2))\n",
    "display(data01.tail(2))"
   ]
  },
  {
   "cell_type": "markdown",
   "id": "3528956f-6186-4db0-bcfa-5a6d3187ee0d",
   "metadata": {},
   "source": [
    "#### descirbe/列ごとの要約統計量を表示（Rのsummaryに相当）"
   ]
  },
  {
   "cell_type": "code",
   "execution_count": 6,
   "id": "c5856e23-06a5-4e53-8478-6e5507a4819b",
   "metadata": {},
   "outputs": [
    {
     "data": {
      "text/html": [
       "<div>\n",
       "<style scoped>\n",
       "    .dataframe tbody tr th:only-of-type {\n",
       "        vertical-align: middle;\n",
       "    }\n",
       "\n",
       "    .dataframe tbody tr th {\n",
       "        vertical-align: top;\n",
       "    }\n",
       "\n",
       "    .dataframe thead th {\n",
       "        text-align: right;\n",
       "    }\n",
       "</style>\n",
       "<table border=\"1\" class=\"dataframe\">\n",
       "  <thead>\n",
       "    <tr style=\"text-align: right;\">\n",
       "      <th></th>\n",
       "      <th>x1</th>\n",
       "      <th>y1</th>\n",
       "    </tr>\n",
       "  </thead>\n",
       "  <tbody>\n",
       "    <tr>\n",
       "      <th>count</th>\n",
       "      <td>5.000000</td>\n",
       "      <td>5.00000</td>\n",
       "    </tr>\n",
       "    <tr>\n",
       "      <th>mean</th>\n",
       "      <td>52.400000</td>\n",
       "      <td>60.40000</td>\n",
       "    </tr>\n",
       "    <tr>\n",
       "      <th>std</th>\n",
       "      <td>7.765307</td>\n",
       "      <td>5.22494</td>\n",
       "    </tr>\n",
       "    <tr>\n",
       "      <th>min</th>\n",
       "      <td>42.000000</td>\n",
       "      <td>52.00000</td>\n",
       "    </tr>\n",
       "    <tr>\n",
       "      <th>25%</th>\n",
       "      <td>50.000000</td>\n",
       "      <td>60.00000</td>\n",
       "    </tr>\n",
       "    <tr>\n",
       "      <th>50%</th>\n",
       "      <td>51.000000</td>\n",
       "      <td>61.00000</td>\n",
       "    </tr>\n",
       "    <tr>\n",
       "      <th>75%</th>\n",
       "      <td>56.000000</td>\n",
       "      <td>63.00000</td>\n",
       "    </tr>\n",
       "    <tr>\n",
       "      <th>max</th>\n",
       "      <td>63.000000</td>\n",
       "      <td>66.00000</td>\n",
       "    </tr>\n",
       "  </tbody>\n",
       "</table>\n",
       "</div>"
      ],
      "text/plain": [
       "              x1        y1\n",
       "count   5.000000   5.00000\n",
       "mean   52.400000  60.40000\n",
       "std     7.765307   5.22494\n",
       "min    42.000000  52.00000\n",
       "25%    50.000000  60.00000\n",
       "50%    51.000000  61.00000\n",
       "75%    56.000000  63.00000\n",
       "max    63.000000  66.00000"
      ]
     },
     "execution_count": 6,
     "metadata": {},
     "output_type": "execute_result"
    }
   ],
   "source": [
    "data01.describe()"
   ]
  },
  {
   "cell_type": "markdown",
   "id": "1adfa86d-3d7f-4726-9c37-5432038ec187",
   "metadata": {},
   "source": [
    "## 1.9.4 forループ"
   ]
  },
  {
   "cell_type": "markdown",
   "id": "9068b8b1-5052-4b7f-8189-3a1fa10f3474",
   "metadata": {},
   "source": [
    "#### DataFrameの行要素をSeriesとして取り出し\n",
    "Rと異なり、Pythonのindexは0始まりなことに注意"
   ]
  },
  {
   "cell_type": "code",
   "execution_count": 7,
   "id": "e656b370-ee3e-484f-89e8-25f77523e378",
   "metadata": {},
   "outputs": [
    {
     "name": "stdout",
     "output_type": "stream",
     "text": [
      "<class 'pandas.core.series.Series'>\n"
     ]
    },
    {
     "data": {
      "text/plain": [
       "x1    51\n",
       "y1    61\n",
       "Name: 2, dtype: int64"
      ]
     },
     "metadata": {},
     "output_type": "display_data"
    }
   ],
   "source": [
    "print(type(data01.iloc[2,:]))\n",
    "display(data01.iloc[2,:])"
   ]
  },
  {
   "cell_type": "markdown",
   "id": "a5bc5ac0-6e99-4339-b312-aa70c843e554",
   "metadata": {},
   "source": [
    "#### DataFrameの行方向のスライス"
   ]
  },
  {
   "cell_type": "code",
   "execution_count": 8,
   "id": "056b188c-a33c-44c4-ab1a-8c68d22b0bf6",
   "metadata": {},
   "outputs": [
    {
     "name": "stdout",
     "output_type": "stream",
     "text": [
      "<class 'pandas.core.frame.DataFrame'>\n"
     ]
    },
    {
     "data": {
      "text/html": [
       "<div>\n",
       "<style scoped>\n",
       "    .dataframe tbody tr th:only-of-type {\n",
       "        vertical-align: middle;\n",
       "    }\n",
       "\n",
       "    .dataframe tbody tr th {\n",
       "        vertical-align: top;\n",
       "    }\n",
       "\n",
       "    .dataframe thead th {\n",
       "        text-align: right;\n",
       "    }\n",
       "</style>\n",
       "<table border=\"1\" class=\"dataframe\">\n",
       "  <thead>\n",
       "    <tr style=\"text-align: right;\">\n",
       "      <th></th>\n",
       "      <th>x1</th>\n",
       "      <th>y1</th>\n",
       "    </tr>\n",
       "  </thead>\n",
       "  <tbody>\n",
       "    <tr>\n",
       "      <th>2</th>\n",
       "      <td>51</td>\n",
       "      <td>61</td>\n",
       "    </tr>\n",
       "  </tbody>\n",
       "</table>\n",
       "</div>"
      ],
      "text/plain": [
       "   x1  y1\n",
       "2  51  61"
      ]
     },
     "execution_count": 8,
     "metadata": {},
     "output_type": "execute_result"
    }
   ],
   "source": [
    "print(type(data01.iloc[[2],:]))\n",
    "data01.iloc[[2],:]"
   ]
  },
  {
   "cell_type": "markdown",
   "id": "cc6e6663-0164-442a-bb11-8ce011eb0da2",
   "metadata": {},
   "source": [
    "#### DataFrameの列をSeriesとして取り出し"
   ]
  },
  {
   "cell_type": "code",
   "execution_count": 9,
   "id": "c9c33792-8d51-4f32-bfcc-89eb2f9ff8c6",
   "metadata": {},
   "outputs": [
    {
     "name": "stdout",
     "output_type": "stream",
     "text": [
      "<class 'pandas.core.series.Series'>\n"
     ]
    },
    {
     "data": {
      "text/plain": [
       "0    63\n",
       "1    66\n",
       "2    61\n",
       "3    60\n",
       "4    52\n",
       "Name: y1, dtype: int64"
      ]
     },
     "execution_count": 9,
     "metadata": {},
     "output_type": "execute_result"
    }
   ],
   "source": [
    "print(type(data01.iloc[:,1]))\n",
    "data01.iloc[:,1]"
   ]
  },
  {
   "cell_type": "markdown",
   "id": "84a8d6c6-d086-4499-84bb-bbe29d59501f",
   "metadata": {},
   "source": [
    "#### DataFrameの列方向のスライス"
   ]
  },
  {
   "cell_type": "code",
   "execution_count": 10,
   "id": "4a82af42-7b4d-43f7-9a81-69d74c075f2e",
   "metadata": {},
   "outputs": [
    {
     "name": "stdout",
     "output_type": "stream",
     "text": [
      "<class 'pandas.core.frame.DataFrame'>\n"
     ]
    },
    {
     "data": {
      "text/html": [
       "<div>\n",
       "<style scoped>\n",
       "    .dataframe tbody tr th:only-of-type {\n",
       "        vertical-align: middle;\n",
       "    }\n",
       "\n",
       "    .dataframe tbody tr th {\n",
       "        vertical-align: top;\n",
       "    }\n",
       "\n",
       "    .dataframe thead th {\n",
       "        text-align: right;\n",
       "    }\n",
       "</style>\n",
       "<table border=\"1\" class=\"dataframe\">\n",
       "  <thead>\n",
       "    <tr style=\"text-align: right;\">\n",
       "      <th></th>\n",
       "      <th>y1</th>\n",
       "    </tr>\n",
       "  </thead>\n",
       "  <tbody>\n",
       "    <tr>\n",
       "      <th>0</th>\n",
       "      <td>63</td>\n",
       "    </tr>\n",
       "    <tr>\n",
       "      <th>1</th>\n",
       "      <td>66</td>\n",
       "    </tr>\n",
       "    <tr>\n",
       "      <th>2</th>\n",
       "      <td>61</td>\n",
       "    </tr>\n",
       "    <tr>\n",
       "      <th>3</th>\n",
       "      <td>60</td>\n",
       "    </tr>\n",
       "    <tr>\n",
       "      <th>4</th>\n",
       "      <td>52</td>\n",
       "    </tr>\n",
       "  </tbody>\n",
       "</table>\n",
       "</div>"
      ],
      "text/plain": [
       "   y1\n",
       "0  63\n",
       "1  66\n",
       "2  61\n",
       "3  60\n",
       "4  52"
      ]
     },
     "execution_count": 10,
     "metadata": {},
     "output_type": "execute_result"
    }
   ],
   "source": [
    "print(type(data01.iloc[:,[1]]))\n",
    "data01.iloc[:,[1]]"
   ]
  },
  {
   "cell_type": "markdown",
   "id": "1d33e0c6-4578-44ee-8861-269751a202a5",
   "metadata": {},
   "source": [
    "#### DataFrameのセル要素の値取り出し"
   ]
  },
  {
   "cell_type": "code",
   "execution_count": 11,
   "id": "84d6e7ad-98d5-449a-abef-19bacbb15487",
   "metadata": {},
   "outputs": [
    {
     "data": {
      "text/plain": [
       "61"
      ]
     },
     "execution_count": 11,
     "metadata": {},
     "output_type": "execute_result"
    }
   ],
   "source": [
    "data01.iat[2,1]"
   ]
  },
  {
   "cell_type": "markdown",
   "id": "a8584b6b-2a3a-45d0-ab2f-c87731215821",
   "metadata": {},
   "source": [
    "#### 列(変数)ごとの要約統計量の計算 (列名を指定）"
   ]
  },
  {
   "cell_type": "code",
   "execution_count": 12,
   "id": "ef0286a6-dfcc-475f-8141-83c32ed0b45b",
   "metadata": {},
   "outputs": [
    {
     "data": {
      "text/plain": [
       "52.4"
      ]
     },
     "metadata": {},
     "output_type": "display_data"
    },
    {
     "data": {
      "text/plain": [
       "7.76530746332687"
      ]
     },
     "metadata": {},
     "output_type": "display_data"
    },
    {
     "data": {
      "text/plain": [
       "60.4"
      ]
     },
     "metadata": {},
     "output_type": "display_data"
    },
    {
     "data": {
      "text/plain": [
       "5.224940191045253"
      ]
     },
     "metadata": {},
     "output_type": "display_data"
    }
   ],
   "source": [
    "display(np.mean(data01.x1))\n",
    "display(np.std(data01.x1, ddof=1)) # 標本標準偏差を求める場合はddof=1\n",
    "display(np.mean(data01.y1))\n",
    "display(np.std(data01.y1, ddof=1))"
   ]
  },
  {
   "cell_type": "markdown",
   "id": "0b80757d-3fe0-4059-9173-05d82939d546",
   "metadata": {},
   "source": [
    "#### 列(変数)ごとの要約統計量の計算 (列名をstringで指定）"
   ]
  },
  {
   "cell_type": "code",
   "execution_count": 13,
   "id": "1937d260-ffe7-4540-8dc7-2264941143eb",
   "metadata": {},
   "outputs": [
    {
     "data": {
      "text/plain": [
       "52.4"
      ]
     },
     "metadata": {},
     "output_type": "display_data"
    },
    {
     "data": {
      "text/plain": [
       "7.76530746332687"
      ]
     },
     "metadata": {},
     "output_type": "display_data"
    },
    {
     "data": {
      "text/plain": [
       "60.4"
      ]
     },
     "metadata": {},
     "output_type": "display_data"
    },
    {
     "data": {
      "text/plain": [
       "5.224940191045253"
      ]
     },
     "metadata": {},
     "output_type": "display_data"
    }
   ],
   "source": [
    "display(np.mean(data01['x1']))\n",
    "display(np.std(data01['x1'], ddof=1)) # 標本標準偏差を求める場合はddof=1\n",
    "display(np.mean(data01['y1']))\n",
    "display(np.std(data01['y1'], ddof=1))"
   ]
  },
  {
   "cell_type": "markdown",
   "id": "cd2d5826-ccf7-4dd3-9ba5-10131fad3a6c",
   "metadata": {},
   "source": [
    "#### 列(変数)ごとの要約統計量の計算 （indexを指定）"
   ]
  },
  {
   "cell_type": "code",
   "execution_count": 14,
   "id": "37e8e4f3-01c4-433d-a094-4da5dc82c890",
   "metadata": {},
   "outputs": [
    {
     "data": {
      "text/plain": [
       "52.4"
      ]
     },
     "metadata": {},
     "output_type": "display_data"
    },
    {
     "data": {
      "text/plain": [
       "7.76530746332687"
      ]
     },
     "metadata": {},
     "output_type": "display_data"
    },
    {
     "data": {
      "text/plain": [
       "60.4"
      ]
     },
     "metadata": {},
     "output_type": "display_data"
    },
    {
     "data": {
      "text/plain": [
       "5.224940191045253"
      ]
     },
     "metadata": {},
     "output_type": "display_data"
    }
   ],
   "source": [
    "display(np.mean(data01.iloc[:,0]))\n",
    "display(np.std(data01.iloc[:,0], ddof=1)) # 標本標準偏差を求める場合はddof=1\n",
    "display(np.mean(data01.iloc[:,1]))\n",
    "display(np.std(data01.iloc[:,1], ddof=1))"
   ]
  },
  {
   "cell_type": "markdown",
   "id": "4ba96fd5-6c79-4e63-9604-fd93a8b9a9f3",
   "metadata": {},
   "source": [
    "#### 表1.4 forループ"
   ]
  },
  {
   "cell_type": "code",
   "execution_count": 15,
   "id": "6f8e3807-3417-4c81-a902-8b8be685bda6",
   "metadata": {},
   "outputs": [
    {
     "data": {
      "text/plain": [
       "array([[52.4       ,  7.76530746],\n",
       "       [60.4       ,  5.22494019]])"
      ]
     },
     "metadata": {},
     "output_type": "display_data"
    }
   ],
   "source": [
    "output = np.empty(shape=(2,2), dtype=np.float64)\n",
    "output.fill(np.nan)\n",
    "\n",
    "for j in range(0,2):\n",
    "    output[j,0] = np.mean(data01.iloc[:,j])\n",
    "    output[j,1] = np.std(data01.iloc[:,j], ddof=1)\n",
    "\n",
    "display(output)"
   ]
  },
  {
   "cell_type": "markdown",
   "id": "eaba103d-2ee8-4c00-a255-cea65f06c54e",
   "metadata": {},
   "source": [
    "#### DataFrameとして表示"
   ]
  },
  {
   "cell_type": "code",
   "execution_count": 16,
   "id": "58c137ec-4291-488e-ba06-2735ad08bbfe",
   "metadata": {},
   "outputs": [
    {
     "data": {
      "text/html": [
       "<div>\n",
       "<style scoped>\n",
       "    .dataframe tbody tr th:only-of-type {\n",
       "        vertical-align: middle;\n",
       "    }\n",
       "\n",
       "    .dataframe tbody tr th {\n",
       "        vertical-align: top;\n",
       "    }\n",
       "\n",
       "    .dataframe thead th {\n",
       "        text-align: right;\n",
       "    }\n",
       "</style>\n",
       "<table border=\"1\" class=\"dataframe\">\n",
       "  <thead>\n",
       "    <tr style=\"text-align: right;\">\n",
       "      <th></th>\n",
       "      <th>mean</th>\n",
       "      <th>std</th>\n",
       "    </tr>\n",
       "  </thead>\n",
       "  <tbody>\n",
       "    <tr>\n",
       "      <th>x1</th>\n",
       "      <td>52.4</td>\n",
       "      <td>7.765307</td>\n",
       "    </tr>\n",
       "    <tr>\n",
       "      <th>y1</th>\n",
       "      <td>60.4</td>\n",
       "      <td>5.224940</td>\n",
       "    </tr>\n",
       "  </tbody>\n",
       "</table>\n",
       "</div>"
      ],
      "text/plain": [
       "    mean       std\n",
       "x1  52.4  7.765307\n",
       "y1  60.4  5.224940"
      ]
     },
     "execution_count": 16,
     "metadata": {},
     "output_type": "execute_result"
    }
   ],
   "source": [
    "pd.DataFrame(output, columns=['mean', 'std'], index=['x1', 'y1'])"
   ]
  },
  {
   "cell_type": "markdown",
   "id": "64b49dae-1b33-49d6-a7f3-daebca152b4f",
   "metadata": {},
   "source": [
    "#### apply: 列(行)ごとに関数を適用"
   ]
  },
  {
   "cell_type": "code",
   "execution_count": 17,
   "id": "15d1f4f3-3e00-4704-9541-6871c47ada61",
   "metadata": {},
   "outputs": [
    {
     "data": {
      "text/plain": [
       "x1    52.4\n",
       "y1    60.4\n",
       "dtype: float64"
      ]
     },
     "metadata": {},
     "output_type": "display_data"
    },
    {
     "data": {
      "text/plain": [
       "x1    7.765307\n",
       "y1    5.224940\n",
       "dtype: float64"
      ]
     },
     "metadata": {},
     "output_type": "display_data"
    }
   ],
   "source": [
    "display(data01.apply(np.mean))\n",
    "display(data01.apply(np.std, ddof=1))"
   ]
  }
 ],
 "metadata": {
  "kernelspec": {
   "display_name": "Python 3",
   "language": "python",
   "name": "python3"
  },
  "language_info": {
   "codemirror_mode": {
    "name": "ipython",
    "version": 3
   },
   "file_extension": ".py",
   "mimetype": "text/x-python",
   "name": "python",
   "nbconvert_exporter": "python",
   "pygments_lexer": "ipython3",
   "version": "3.8.10"
  }
 },
 "nbformat": 4,
 "nbformat_minor": 5
}
