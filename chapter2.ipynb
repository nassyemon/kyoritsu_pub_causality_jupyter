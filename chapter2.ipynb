{
 "cells": [
  {
   "cell_type": "code",
   "execution_count": 1,
   "id": "97b78621-e3dc-463b-a036-fdcf1f616d0e",
   "metadata": {},
   "outputs": [],
   "source": [
    "import pandas as pd\n",
    "import numpy as np\n",
    "import scipy\n",
    "import statsmodels.stats.weightstats"
   ]
  },
  {
   "cell_type": "markdown",
   "id": "9651a14d-f571-409d-99de-753d6c7cdcbc",
   "metadata": {},
   "source": [
    "## 2.2 潜在的結果変数の枠組み：理論"
   ]
  },
  {
   "cell_type": "markdown",
   "id": "8f2d7707-4fb2-451c-996f-c76771e564f6",
   "metadata": {},
   "source": [
    "### 2.3 例示用データ"
   ]
  },
  {
   "cell_type": "markdown",
   "id": "6dafd7cc-4211-4a7a-a135-86b5df527fee",
   "metadata": {},
   "source": [
    "#### ファイル読み込み"
   ]
  },
  {
   "cell_type": "code",
   "execution_count": 2,
   "id": "d07a6f27-e1be-44bc-acbb-98a8debc544b",
   "metadata": {},
   "outputs": [
    {
     "data": {
      "text/html": [
       "<div>\n",
       "<style scoped>\n",
       "    .dataframe tbody tr th:only-of-type {\n",
       "        vertical-align: middle;\n",
       "    }\n",
       "\n",
       "    .dataframe tbody tr th {\n",
       "        vertical-align: top;\n",
       "    }\n",
       "\n",
       "    .dataframe thead th {\n",
       "        text-align: right;\n",
       "    }\n",
       "</style>\n",
       "<table border=\"1\" class=\"dataframe\">\n",
       "  <thead>\n",
       "    <tr style=\"text-align: right;\">\n",
       "      <th></th>\n",
       "      <th>x1</th>\n",
       "      <th>y3</th>\n",
       "      <th>t1</th>\n",
       "      <th>y0</th>\n",
       "      <th>y1</th>\n",
       "      <th>y0t</th>\n",
       "      <th>y1t</th>\n",
       "    </tr>\n",
       "  </thead>\n",
       "  <tbody>\n",
       "    <tr>\n",
       "      <th>0</th>\n",
       "      <td>74</td>\n",
       "      <td>76</td>\n",
       "      <td>1</td>\n",
       "      <td>NaN</td>\n",
       "      <td>76.0</td>\n",
       "      <td>68</td>\n",
       "      <td>76</td>\n",
       "    </tr>\n",
       "    <tr>\n",
       "      <th>1</th>\n",
       "      <td>82</td>\n",
       "      <td>75</td>\n",
       "      <td>0</td>\n",
       "      <td>75.0</td>\n",
       "      <td>NaN</td>\n",
       "      <td>75</td>\n",
       "      <td>84</td>\n",
       "    </tr>\n",
       "    <tr>\n",
       "      <th>2</th>\n",
       "      <td>72</td>\n",
       "      <td>75</td>\n",
       "      <td>1</td>\n",
       "      <td>NaN</td>\n",
       "      <td>75.0</td>\n",
       "      <td>65</td>\n",
       "      <td>75</td>\n",
       "    </tr>\n",
       "    <tr>\n",
       "      <th>3</th>\n",
       "      <td>96</td>\n",
       "      <td>84</td>\n",
       "      <td>0</td>\n",
       "      <td>84.0</td>\n",
       "      <td>NaN</td>\n",
       "      <td>84</td>\n",
       "      <td>97</td>\n",
       "    </tr>\n",
       "    <tr>\n",
       "      <th>4</th>\n",
       "      <td>83</td>\n",
       "      <td>75</td>\n",
       "      <td>0</td>\n",
       "      <td>75.0</td>\n",
       "      <td>NaN</td>\n",
       "      <td>75</td>\n",
       "      <td>84</td>\n",
       "    </tr>\n",
       "    <tr>\n",
       "      <th>5</th>\n",
       "      <td>72</td>\n",
       "      <td>74</td>\n",
       "      <td>1</td>\n",
       "      <td>NaN</td>\n",
       "      <td>74.0</td>\n",
       "      <td>65</td>\n",
       "      <td>74</td>\n",
       "    </tr>\n",
       "    <tr>\n",
       "      <th>6</th>\n",
       "      <td>85</td>\n",
       "      <td>76</td>\n",
       "      <td>0</td>\n",
       "      <td>76.0</td>\n",
       "      <td>NaN</td>\n",
       "      <td>76</td>\n",
       "      <td>87</td>\n",
       "    </tr>\n",
       "    <tr>\n",
       "      <th>7</th>\n",
       "      <td>87</td>\n",
       "      <td>77</td>\n",
       "      <td>0</td>\n",
       "      <td>77.0</td>\n",
       "      <td>NaN</td>\n",
       "      <td>77</td>\n",
       "      <td>89</td>\n",
       "    </tr>\n",
       "    <tr>\n",
       "      <th>8</th>\n",
       "      <td>86</td>\n",
       "      <td>77</td>\n",
       "      <td>0</td>\n",
       "      <td>77.0</td>\n",
       "      <td>NaN</td>\n",
       "      <td>77</td>\n",
       "      <td>87</td>\n",
       "    </tr>\n",
       "    <tr>\n",
       "      <th>9</th>\n",
       "      <td>77</td>\n",
       "      <td>80</td>\n",
       "      <td>1</td>\n",
       "      <td>NaN</td>\n",
       "      <td>80.0</td>\n",
       "      <td>70</td>\n",
       "      <td>80</td>\n",
       "    </tr>\n",
       "    <tr>\n",
       "      <th>10</th>\n",
       "      <td>95</td>\n",
       "      <td>87</td>\n",
       "      <td>0</td>\n",
       "      <td>87.0</td>\n",
       "      <td>NaN</td>\n",
       "      <td>87</td>\n",
       "      <td>96</td>\n",
       "    </tr>\n",
       "    <tr>\n",
       "      <th>11</th>\n",
       "      <td>84</td>\n",
       "      <td>75</td>\n",
       "      <td>0</td>\n",
       "      <td>75.0</td>\n",
       "      <td>NaN</td>\n",
       "      <td>75</td>\n",
       "      <td>85</td>\n",
       "    </tr>\n",
       "    <tr>\n",
       "      <th>12</th>\n",
       "      <td>74</td>\n",
       "      <td>77</td>\n",
       "      <td>1</td>\n",
       "      <td>NaN</td>\n",
       "      <td>77.0</td>\n",
       "      <td>67</td>\n",
       "      <td>77</td>\n",
       "    </tr>\n",
       "    <tr>\n",
       "      <th>13</th>\n",
       "      <td>58</td>\n",
       "      <td>61</td>\n",
       "      <td>1</td>\n",
       "      <td>NaN</td>\n",
       "      <td>61.0</td>\n",
       "      <td>52</td>\n",
       "      <td>61</td>\n",
       "    </tr>\n",
       "    <tr>\n",
       "      <th>14</th>\n",
       "      <td>91</td>\n",
       "      <td>81</td>\n",
       "      <td>0</td>\n",
       "      <td>81.0</td>\n",
       "      <td>NaN</td>\n",
       "      <td>81</td>\n",
       "      <td>93</td>\n",
       "    </tr>\n",
       "    <tr>\n",
       "      <th>15</th>\n",
       "      <td>80</td>\n",
       "      <td>72</td>\n",
       "      <td>0</td>\n",
       "      <td>72.0</td>\n",
       "      <td>NaN</td>\n",
       "      <td>72</td>\n",
       "      <td>84</td>\n",
       "    </tr>\n",
       "    <tr>\n",
       "      <th>16</th>\n",
       "      <td>80</td>\n",
       "      <td>72</td>\n",
       "      <td>0</td>\n",
       "      <td>72.0</td>\n",
       "      <td>NaN</td>\n",
       "      <td>72</td>\n",
       "      <td>82</td>\n",
       "    </tr>\n",
       "    <tr>\n",
       "      <th>17</th>\n",
       "      <td>89</td>\n",
       "      <td>80</td>\n",
       "      <td>0</td>\n",
       "      <td>80.0</td>\n",
       "      <td>NaN</td>\n",
       "      <td>80</td>\n",
       "      <td>89</td>\n",
       "    </tr>\n",
       "    <tr>\n",
       "      <th>18</th>\n",
       "      <td>88</td>\n",
       "      <td>80</td>\n",
       "      <td>0</td>\n",
       "      <td>80.0</td>\n",
       "      <td>NaN</td>\n",
       "      <td>80</td>\n",
       "      <td>90</td>\n",
       "    </tr>\n",
       "    <tr>\n",
       "      <th>19</th>\n",
       "      <td>86</td>\n",
       "      <td>78</td>\n",
       "      <td>0</td>\n",
       "      <td>78.0</td>\n",
       "      <td>NaN</td>\n",
       "      <td>78</td>\n",
       "      <td>87</td>\n",
       "    </tr>\n",
       "  </tbody>\n",
       "</table>\n",
       "</div>"
      ],
      "text/plain": [
       "    x1  y3  t1    y0    y1  y0t  y1t\n",
       "0   74  76   1   NaN  76.0   68   76\n",
       "1   82  75   0  75.0   NaN   75   84\n",
       "2   72  75   1   NaN  75.0   65   75\n",
       "3   96  84   0  84.0   NaN   84   97\n",
       "4   83  75   0  75.0   NaN   75   84\n",
       "5   72  74   1   NaN  74.0   65   74\n",
       "6   85  76   0  76.0   NaN   76   87\n",
       "7   87  77   0  77.0   NaN   77   89\n",
       "8   86  77   0  77.0   NaN   77   87\n",
       "9   77  80   1   NaN  80.0   70   80\n",
       "10  95  87   0  87.0   NaN   87   96\n",
       "11  84  75   0  75.0   NaN   75   85\n",
       "12  74  77   1   NaN  77.0   67   77\n",
       "13  58  61   1   NaN  61.0   52   61\n",
       "14  91  81   0  81.0   NaN   81   93\n",
       "15  80  72   0  72.0   NaN   72   84\n",
       "16  80  72   0  72.0   NaN   72   82\n",
       "17  89  80   0  80.0   NaN   80   89\n",
       "18  88  80   0  80.0   NaN   80   90\n",
       "19  86  78   0  78.0   NaN   78   87"
      ]
     },
     "metadata": {},
     "output_type": "display_data"
    }
   ],
   "source": [
    "data02 = pd.read_csv('./causality/data02.csv')\n",
    "display(data02)"
   ]
  },
  {
   "cell_type": "markdown",
   "id": "0989c6fc-636d-4786-9c61-6155afbd18c4",
   "metadata": {},
   "source": [
    "#### 要約統計量表示"
   ]
  },
  {
   "cell_type": "code",
   "execution_count": 3,
   "id": "3c7f3bf2-0a6c-40fc-b1a5-31995d7fbc85",
   "metadata": {},
   "outputs": [
    {
     "data": {
      "text/html": [
       "<div>\n",
       "<style scoped>\n",
       "    .dataframe tbody tr th:only-of-type {\n",
       "        vertical-align: middle;\n",
       "    }\n",
       "\n",
       "    .dataframe tbody tr th {\n",
       "        vertical-align: top;\n",
       "    }\n",
       "\n",
       "    .dataframe thead th {\n",
       "        text-align: right;\n",
       "    }\n",
       "</style>\n",
       "<table border=\"1\" class=\"dataframe\">\n",
       "  <thead>\n",
       "    <tr style=\"text-align: right;\">\n",
       "      <th></th>\n",
       "      <th>x1</th>\n",
       "      <th>y3</th>\n",
       "      <th>t1</th>\n",
       "      <th>y0</th>\n",
       "      <th>y1</th>\n",
       "      <th>y0t</th>\n",
       "      <th>y1t</th>\n",
       "    </tr>\n",
       "  </thead>\n",
       "  <tbody>\n",
       "    <tr>\n",
       "      <th>count</th>\n",
       "      <td>20.000000</td>\n",
       "      <td>20.000000</td>\n",
       "      <td>20.000000</td>\n",
       "      <td>14.000000</td>\n",
       "      <td>6.000000</td>\n",
       "      <td>20.000000</td>\n",
       "      <td>20.000000</td>\n",
       "    </tr>\n",
       "    <tr>\n",
       "      <th>mean</th>\n",
       "      <td>81.950000</td>\n",
       "      <td>76.600000</td>\n",
       "      <td>0.300000</td>\n",
       "      <td>77.785714</td>\n",
       "      <td>73.833333</td>\n",
       "      <td>73.800000</td>\n",
       "      <td>83.850000</td>\n",
       "    </tr>\n",
       "    <tr>\n",
       "      <th>std</th>\n",
       "      <td>8.999854</td>\n",
       "      <td>5.245549</td>\n",
       "      <td>0.470162</td>\n",
       "      <td>4.281958</td>\n",
       "      <td>6.615638</td>\n",
       "      <td>7.898034</td>\n",
       "      <td>8.430989</td>\n",
       "    </tr>\n",
       "    <tr>\n",
       "      <th>min</th>\n",
       "      <td>58.000000</td>\n",
       "      <td>61.000000</td>\n",
       "      <td>0.000000</td>\n",
       "      <td>72.000000</td>\n",
       "      <td>61.000000</td>\n",
       "      <td>52.000000</td>\n",
       "      <td>61.000000</td>\n",
       "    </tr>\n",
       "    <tr>\n",
       "      <th>25%</th>\n",
       "      <td>76.250000</td>\n",
       "      <td>75.000000</td>\n",
       "      <td>0.000000</td>\n",
       "      <td>75.000000</td>\n",
       "      <td>74.250000</td>\n",
       "      <td>69.500000</td>\n",
       "      <td>79.250000</td>\n",
       "    </tr>\n",
       "    <tr>\n",
       "      <th>50%</th>\n",
       "      <td>83.500000</td>\n",
       "      <td>76.500000</td>\n",
       "      <td>0.000000</td>\n",
       "      <td>77.000000</td>\n",
       "      <td>75.500000</td>\n",
       "      <td>75.000000</td>\n",
       "      <td>84.500000</td>\n",
       "    </tr>\n",
       "    <tr>\n",
       "      <th>75%</th>\n",
       "      <td>87.250000</td>\n",
       "      <td>80.000000</td>\n",
       "      <td>1.000000</td>\n",
       "      <td>80.000000</td>\n",
       "      <td>76.750000</td>\n",
       "      <td>78.500000</td>\n",
       "      <td>89.000000</td>\n",
       "    </tr>\n",
       "    <tr>\n",
       "      <th>max</th>\n",
       "      <td>96.000000</td>\n",
       "      <td>87.000000</td>\n",
       "      <td>1.000000</td>\n",
       "      <td>87.000000</td>\n",
       "      <td>80.000000</td>\n",
       "      <td>87.000000</td>\n",
       "      <td>97.000000</td>\n",
       "    </tr>\n",
       "  </tbody>\n",
       "</table>\n",
       "</div>"
      ],
      "text/plain": [
       "              x1         y3         t1         y0         y1        y0t  \\\n",
       "count  20.000000  20.000000  20.000000  14.000000   6.000000  20.000000   \n",
       "mean   81.950000  76.600000   0.300000  77.785714  73.833333  73.800000   \n",
       "std     8.999854   5.245549   0.470162   4.281958   6.615638   7.898034   \n",
       "min    58.000000  61.000000   0.000000  72.000000  61.000000  52.000000   \n",
       "25%    76.250000  75.000000   0.000000  75.000000  74.250000  69.500000   \n",
       "50%    83.500000  76.500000   0.000000  77.000000  75.500000  75.000000   \n",
       "75%    87.250000  80.000000   1.000000  80.000000  76.750000  78.500000   \n",
       "max    96.000000  87.000000   1.000000  87.000000  80.000000  87.000000   \n",
       "\n",
       "             y1t  \n",
       "count  20.000000  \n",
       "mean   83.850000  \n",
       "std     8.430989  \n",
       "min    61.000000  \n",
       "25%    79.250000  \n",
       "50%    84.500000  \n",
       "75%    89.000000  \n",
       "max    97.000000  "
      ]
     },
     "metadata": {},
     "output_type": "display_data"
    }
   ],
   "source": [
    "display(data02.describe())"
   ]
  },
  {
   "cell_type": "markdown",
   "id": "930be5cc-9eb6-4b08-b144-30c2bd6fb5b1",
   "metadata": {},
   "source": [
    "## 2.3 処置効果１："
   ]
  },
  {
   "cell_type": "markdown",
   "id": "778994b9-bb6e-485d-90ca-08b510139996",
   "metadata": {},
   "source": [
    "### 表2.4 個体因果効果"
   ]
  },
  {
   "cell_type": "markdown",
   "id": "1ea48bcf-a67b-4327-aeeb-d219874aa278",
   "metadata": {},
   "source": [
    "#### 教科書通りのやり方 (Jupyterだと読みづらい）"
   ]
  },
  {
   "cell_type": "code",
   "execution_count": 4,
   "id": "2af3ae94-b02e-4bd9-91de-885e9f880da3",
   "metadata": {},
   "outputs": [
    {
     "data": {
      "text/plain": [
       "0      8\n",
       "1      9\n",
       "2     10\n",
       "3     13\n",
       "4      9\n",
       "5      9\n",
       "6     11\n",
       "7     12\n",
       "8     10\n",
       "9     10\n",
       "10     9\n",
       "11    10\n",
       "12    10\n",
       "13     9\n",
       "14    12\n",
       "15    12\n",
       "16    10\n",
       "17     9\n",
       "18    10\n",
       "19     9\n",
       "dtype: int64"
      ]
     },
     "execution_count": 4,
     "metadata": {},
     "output_type": "execute_result"
    }
   ],
   "source": [
    "data02.y1t - data02.y0t"
   ]
  },
  {
   "cell_type": "markdown",
   "id": "5f705771-4498-4f8f-872e-97dc8c0157b9",
   "metadata": {},
   "source": [
    "#### 人間に読みやすい方法"
   ]
  },
  {
   "cell_type": "code",
   "execution_count": 5,
   "id": "78258f2d-e32b-438b-a9db-84ac363e9675",
   "metadata": {},
   "outputs": [
    {
     "data": {
      "text/html": [
       "<div>\n",
       "<style scoped>\n",
       "    .dataframe tbody tr th:only-of-type {\n",
       "        vertical-align: middle;\n",
       "    }\n",
       "\n",
       "    .dataframe tbody tr th {\n",
       "        vertical-align: top;\n",
       "    }\n",
       "\n",
       "    .dataframe thead th {\n",
       "        text-align: right;\n",
       "    }\n",
       "</style>\n",
       "<table border=\"1\" class=\"dataframe\">\n",
       "  <thead>\n",
       "    <tr style=\"text-align: right;\">\n",
       "      <th></th>\n",
       "      <th>y1t- y0t</th>\n",
       "      <th>y3 - x1</th>\n",
       "      <th>y1 - y0</th>\n",
       "    </tr>\n",
       "  </thead>\n",
       "  <tbody>\n",
       "    <tr>\n",
       "      <th>0</th>\n",
       "      <td>8</td>\n",
       "      <td>2</td>\n",
       "      <td>NaN</td>\n",
       "    </tr>\n",
       "    <tr>\n",
       "      <th>1</th>\n",
       "      <td>9</td>\n",
       "      <td>-7</td>\n",
       "      <td>NaN</td>\n",
       "    </tr>\n",
       "    <tr>\n",
       "      <th>2</th>\n",
       "      <td>10</td>\n",
       "      <td>3</td>\n",
       "      <td>NaN</td>\n",
       "    </tr>\n",
       "    <tr>\n",
       "      <th>3</th>\n",
       "      <td>13</td>\n",
       "      <td>-12</td>\n",
       "      <td>NaN</td>\n",
       "    </tr>\n",
       "    <tr>\n",
       "      <th>4</th>\n",
       "      <td>9</td>\n",
       "      <td>-8</td>\n",
       "      <td>NaN</td>\n",
       "    </tr>\n",
       "    <tr>\n",
       "      <th>5</th>\n",
       "      <td>9</td>\n",
       "      <td>2</td>\n",
       "      <td>NaN</td>\n",
       "    </tr>\n",
       "    <tr>\n",
       "      <th>6</th>\n",
       "      <td>11</td>\n",
       "      <td>-9</td>\n",
       "      <td>NaN</td>\n",
       "    </tr>\n",
       "    <tr>\n",
       "      <th>7</th>\n",
       "      <td>12</td>\n",
       "      <td>-10</td>\n",
       "      <td>NaN</td>\n",
       "    </tr>\n",
       "    <tr>\n",
       "      <th>8</th>\n",
       "      <td>10</td>\n",
       "      <td>-9</td>\n",
       "      <td>NaN</td>\n",
       "    </tr>\n",
       "    <tr>\n",
       "      <th>9</th>\n",
       "      <td>10</td>\n",
       "      <td>3</td>\n",
       "      <td>NaN</td>\n",
       "    </tr>\n",
       "    <tr>\n",
       "      <th>10</th>\n",
       "      <td>9</td>\n",
       "      <td>-8</td>\n",
       "      <td>NaN</td>\n",
       "    </tr>\n",
       "    <tr>\n",
       "      <th>11</th>\n",
       "      <td>10</td>\n",
       "      <td>-9</td>\n",
       "      <td>NaN</td>\n",
       "    </tr>\n",
       "    <tr>\n",
       "      <th>12</th>\n",
       "      <td>10</td>\n",
       "      <td>3</td>\n",
       "      <td>NaN</td>\n",
       "    </tr>\n",
       "    <tr>\n",
       "      <th>13</th>\n",
       "      <td>9</td>\n",
       "      <td>3</td>\n",
       "      <td>NaN</td>\n",
       "    </tr>\n",
       "    <tr>\n",
       "      <th>14</th>\n",
       "      <td>12</td>\n",
       "      <td>-10</td>\n",
       "      <td>NaN</td>\n",
       "    </tr>\n",
       "    <tr>\n",
       "      <th>15</th>\n",
       "      <td>12</td>\n",
       "      <td>-8</td>\n",
       "      <td>NaN</td>\n",
       "    </tr>\n",
       "    <tr>\n",
       "      <th>16</th>\n",
       "      <td>10</td>\n",
       "      <td>-8</td>\n",
       "      <td>NaN</td>\n",
       "    </tr>\n",
       "    <tr>\n",
       "      <th>17</th>\n",
       "      <td>9</td>\n",
       "      <td>-9</td>\n",
       "      <td>NaN</td>\n",
       "    </tr>\n",
       "    <tr>\n",
       "      <th>18</th>\n",
       "      <td>10</td>\n",
       "      <td>-8</td>\n",
       "      <td>NaN</td>\n",
       "    </tr>\n",
       "    <tr>\n",
       "      <th>19</th>\n",
       "      <td>9</td>\n",
       "      <td>-8</td>\n",
       "      <td>NaN</td>\n",
       "    </tr>\n",
       "  </tbody>\n",
       "</table>\n",
       "</div>"
      ],
      "text/plain": [
       "    y1t- y0t  y3 - x1  y1 - y0\n",
       "0          8        2      NaN\n",
       "1          9       -7      NaN\n",
       "2         10        3      NaN\n",
       "3         13      -12      NaN\n",
       "4          9       -8      NaN\n",
       "5          9        2      NaN\n",
       "6         11       -9      NaN\n",
       "7         12      -10      NaN\n",
       "8         10       -9      NaN\n",
       "9         10        3      NaN\n",
       "10         9       -8      NaN\n",
       "11        10       -9      NaN\n",
       "12        10        3      NaN\n",
       "13         9        3      NaN\n",
       "14        12      -10      NaN\n",
       "15        12       -8      NaN\n",
       "16        10       -8      NaN\n",
       "17         9       -9      NaN\n",
       "18        10       -8      NaN\n",
       "19         9       -8      NaN"
      ]
     },
     "execution_count": 5,
     "metadata": {},
     "output_type": "execute_result"
    }
   ],
   "source": [
    "pd.DataFrame({\n",
    "    'y1t- y0t': data02.y1t - data02.y0t,\n",
    "    'y3 - x1': data02.y3 - data02.x1,\n",
    "    'y1 - y0': data02.y1 - data02.y0,\n",
    "})"
   ]
  },
  {
   "cell_type": "markdown",
   "id": "7f6ff017-1f84-442d-8da6-461938458a14",
   "metadata": {},
   "source": [
    "## 2.4 処置効果2: 平均処置効果"
   ]
  },
  {
   "cell_type": "markdown",
   "id": "b593b9bb-b0a7-4e22-bf59-b837cabddc5e",
   "metadata": {},
   "source": [
    " ###　表2.5 平均処置効果(ATE)"
   ]
  },
  {
   "cell_type": "code",
   "execution_count": 6,
   "id": "28c6ac44-e55d-4f64-a7f5-ef15da9a2445",
   "metadata": {},
   "outputs": [
    {
     "data": {
      "text/plain": [
       "10.049999999999997"
      ]
     },
     "execution_count": 6,
     "metadata": {},
     "output_type": "execute_result"
    }
   ],
   "source": [
    "np.mean(data02.y1t) - np.mean(data02.y0t)"
   ]
  },
  {
   "cell_type": "markdown",
   "id": "1b28b9c8-9a6a-462c-8ae9-c6fa69accb36",
   "metadata": {},
   "source": [
    "#### Series.mean()を利用"
   ]
  },
  {
   "cell_type": "code",
   "execution_count": 7,
   "id": "80759eb7-0f13-460b-a1cc-f972664c081d",
   "metadata": {},
   "outputs": [
    {
     "data": {
      "text/plain": [
       "10.049999999999997"
      ]
     },
     "metadata": {},
     "output_type": "display_data"
    }
   ],
   "source": [
    "display(data02.y1t.mean() - data02.y0t.mean())"
   ]
  },
  {
   "cell_type": "code",
   "execution_count": 8,
   "id": "eb81d4e3-cff3-4281-ab9e-90ca4f6e8477",
   "metadata": {},
   "outputs": [
    {
     "data": {
      "text/plain": [
       "-5.3500000000000085"
      ]
     },
     "execution_count": 8,
     "metadata": {},
     "output_type": "execute_result"
    }
   ],
   "source": [
    "np.mean(data02.y3) - np.mean(data02.x1)"
   ]
  },
  {
   "cell_type": "markdown",
   "id": "a14b35a6-77b0-47fe-8ea3-3d785c67d307",
   "metadata": {},
   "source": [
    "#### NaN除外した平均はnp.nanmeanを利用"
   ]
  },
  {
   "cell_type": "code",
   "execution_count": 9,
   "id": "a73ac507-4b42-4c41-a689-a70aa35a7a91",
   "metadata": {},
   "outputs": [
    {
     "data": {
      "text/plain": [
       "-3.952380952380963"
      ]
     },
     "execution_count": 9,
     "metadata": {},
     "output_type": "execute_result"
    }
   ],
   "source": [
    "m1 = np.nanmean(data02.y1)\n",
    "m0 = np.nanmean(data02.y0)\n",
    "m1 - m0"
   ]
  },
  {
   "cell_type": "markdown",
   "id": "f9549dfb-2d08-4aac-b1ac-e8b2284fdeb4",
   "metadata": {},
   "source": [
    "#### Series.mean(skipna=True)でも可能"
   ]
  },
  {
   "cell_type": "code",
   "execution_count": 10,
   "id": "d10fe37d-ddbf-4a16-ac73-30a1d7a9347d",
   "metadata": {},
   "outputs": [
    {
     "data": {
      "text/plain": [
       "-3.952380952380963"
      ]
     },
     "execution_count": 10,
     "metadata": {},
     "output_type": "execute_result"
    }
   ],
   "source": [
    "_m1 = data02.y1.mean(skipna=True)\n",
    "_m0 = data02.y0.mean(skipna=True)\n",
    "_m1 - _m0"
   ]
  },
  {
   "cell_type": "markdown",
   "id": "78abb509-9b73-45fd-9696-c7e4312165d5",
   "metadata": {},
   "source": [
    "## 2.5 処置効果3: 処置群の平均処置効果"
   ]
  },
  {
   "cell_type": "markdown",
   "id": "06854d56-a4ad-4f29-b91c-b8c9fcba4e51",
   "metadata": {},
   "source": [
    "### 表2.6 真のATT"
   ]
  },
  {
   "cell_type": "code",
   "execution_count": 11,
   "id": "b85bdcfd-913d-469c-957b-42481227aacb",
   "metadata": {},
   "outputs": [
    {
     "data": {
      "text/plain": [
       "9.333333333333329"
      ]
     },
     "execution_count": 11,
     "metadata": {},
     "output_type": "execute_result"
    }
   ],
   "source": [
    "mt1 = data02[data02.t1 == 1].y1t.mean()\n",
    "mt0 = data02[data02.t1 == 1].y0t.mean()\n",
    "mt1 - mt0"
   ]
  },
  {
   "cell_type": "markdown",
   "id": "fce226fe-5e14-4379-b3fc-8ed857283d92",
   "metadata": {},
   "source": [
    "#### DataFrame.queryを利用"
   ]
  },
  {
   "cell_type": "code",
   "execution_count": 12,
   "id": "d12e08c9-5f4a-4312-a6bf-83d64c48804e",
   "metadata": {},
   "outputs": [
    {
     "data": {
      "text/plain": [
       "9.333333333333329"
      ]
     },
     "execution_count": 12,
     "metadata": {},
     "output_type": "execute_result"
    }
   ],
   "source": [
    "_mt1 = data02.query('t1 == 1').y1t.mean()\n",
    "_mt0 = data02.query('t1 == 1').y0t.mean()\n",
    "_mt1 - _mt0"
   ]
  },
  {
   "cell_type": "markdown",
   "id": "2a8e5ce3-ddd9-4f69-b8cb-1cded20b4944",
   "metadata": {},
   "source": [
    "## 2.6 無作為割付けによる分析の例"
   ]
  },
  {
   "cell_type": "markdown",
   "id": "fd31755f-bf71-4455-ac8c-f81ab74ba868",
   "metadata": {},
   "source": [
    "### 表2.7 無作為割付による分析"
   ]
  },
  {
   "cell_type": "markdown",
   "id": "2d541c7d-2ffd-4477-9df6-45f609310f19",
   "metadata": {},
   "source": [
    "#### np.random.uniform: 一様分布を生成"
   ]
  },
  {
   "cell_type": "code",
   "execution_count": 13,
   "id": "cbe9de7b-e5a1-49e8-975b-1f5aab8ead5d",
   "metadata": {},
   "outputs": [
    {
     "data": {
      "text/plain": [
       "array([4.17022005e-01, 7.20324493e-01, 1.14374817e-04, 3.02332573e-01,\n",
       "       1.46755891e-01, 9.23385948e-02, 1.86260211e-01, 3.45560727e-01,\n",
       "       3.96767474e-01, 5.38816734e-01, 4.19194514e-01, 6.85219500e-01,\n",
       "       2.04452250e-01, 8.78117436e-01, 2.73875932e-02, 6.70467510e-01,\n",
       "       4.17304802e-01, 5.58689828e-01, 1.40386939e-01, 1.98101489e-01])"
      ]
     },
     "metadata": {},
     "output_type": "display_data"
    },
    {
     "data": {
      "text/plain": [
       "array([0., 1., 0., 0., 0., 0., 0., 0., 0., 1., 0., 1., 0., 1., 0., 1., 0.,\n",
       "       1., 0., 0.])"
      ]
     },
     "metadata": {},
     "output_type": "display_data"
    }
   ],
   "source": [
    "np.random.seed(1)\n",
    "r0 = np.random.uniform(0,1, size=20)\n",
    "display(r0)\n",
    "r1 = np.round(r0, 0)\n",
    "display(r1)"
   ]
  },
  {
   "cell_type": "markdown",
   "id": "a4b03abd-673a-4e34-899b-16594e92fbdb",
   "metadata": {},
   "source": [
    "#### 教科書の乱数振り分け結果"
   ]
  },
  {
   "cell_type": "code",
   "execution_count": 14,
   "id": "5266ce94-f497-444f-8b16-91acb3ae808a",
   "metadata": {},
   "outputs": [],
   "source": [
    "_r1 = np.array([0, 0, 1, 1, 0, 1, 1, 1, 1, 0, 0, 0, 1, 0, 1, 0, 1, 1, 0, 1])"
   ]
  },
  {
   "cell_type": "code",
   "execution_count": 15,
   "id": "312462b1-1a1d-4e2f-a23f-85120010ed0e",
   "metadata": {},
   "outputs": [
    {
     "data": {
      "text/plain": [
       "array([68., 75., 75., 97., 75., 74., 87., 89., 87., 70., 87., 75., 77.,\n",
       "       52., 93., 72., 82., 89., 80., 87.])"
      ]
     },
     "metadata": {},
     "output_type": "display_data"
    }
   ],
   "source": [
    "# 教科書の結果に合わせる\n",
    "r1 = _r1\n",
    "y2 = np.empty(shape=(20))\n",
    "y2.fill(np.nan)\n",
    "y2[r1 == 1] = data02.y1t[r1 == 1]\n",
    "y2[r1 == 0] = data02.y0t[r1 == 0]\n",
    "display(y2)"
   ]
  },
  {
   "cell_type": "code",
   "execution_count": 16,
   "id": "532c4ce9-f640-4feb-8064-c5dbea71f219",
   "metadata": {},
   "outputs": [
    {
     "data": {
      "text/plain": [
       "85.18181818181819"
      ]
     },
     "metadata": {},
     "output_type": "display_data"
    },
    {
     "data": {
      "text/plain": [
       "72.66666666666667"
      ]
     },
     "metadata": {},
     "output_type": "display_data"
    },
    {
     "data": {
      "text/plain": [
       "12.515151515151516"
      ]
     },
     "metadata": {},
     "output_type": "display_data"
    }
   ],
   "source": [
    "mr1 = np.mean(y2[r1==1])\n",
    "mr2 = np.mean(y2[r1==0])\n",
    "display(mr1)\n",
    "display(mr2)\n",
    "display(mr1 - mr2)"
   ]
  },
  {
   "cell_type": "markdown",
   "id": "0da6695c-db34-4532-abaa-91ea0a5822b5",
   "metadata": {},
   "source": [
    "#### DataFrameを活用"
   ]
  },
  {
   "cell_type": "code",
   "execution_count": 17,
   "id": "c419d93c-e9af-4c59-b62e-fe70a9f63771",
   "metadata": {},
   "outputs": [
    {
     "data": {
      "text/html": [
       "<div>\n",
       "<style scoped>\n",
       "    .dataframe tbody tr th:only-of-type {\n",
       "        vertical-align: middle;\n",
       "    }\n",
       "\n",
       "    .dataframe tbody tr th {\n",
       "        vertical-align: top;\n",
       "    }\n",
       "\n",
       "    .dataframe thead th {\n",
       "        text-align: right;\n",
       "    }\n",
       "</style>\n",
       "<table border=\"1\" class=\"dataframe\">\n",
       "  <thead>\n",
       "    <tr style=\"text-align: right;\">\n",
       "      <th></th>\n",
       "      <th>x1</th>\n",
       "      <th>y3</th>\n",
       "      <th>t1</th>\n",
       "      <th>y0</th>\n",
       "      <th>y1</th>\n",
       "      <th>y0t</th>\n",
       "      <th>y1t</th>\n",
       "      <th>r0</th>\n",
       "      <th>r1</th>\n",
       "      <th>_r1</th>\n",
       "      <th>y2</th>\n",
       "    </tr>\n",
       "  </thead>\n",
       "  <tbody>\n",
       "    <tr>\n",
       "      <th>0</th>\n",
       "      <td>74</td>\n",
       "      <td>76</td>\n",
       "      <td>1</td>\n",
       "      <td>NaN</td>\n",
       "      <td>76.0</td>\n",
       "      <td>68</td>\n",
       "      <td>76</td>\n",
       "      <td>0.417022</td>\n",
       "      <td>0.0</td>\n",
       "      <td>0</td>\n",
       "      <td>68</td>\n",
       "    </tr>\n",
       "    <tr>\n",
       "      <th>1</th>\n",
       "      <td>82</td>\n",
       "      <td>75</td>\n",
       "      <td>0</td>\n",
       "      <td>75.0</td>\n",
       "      <td>NaN</td>\n",
       "      <td>75</td>\n",
       "      <td>84</td>\n",
       "      <td>0.720324</td>\n",
       "      <td>1.0</td>\n",
       "      <td>0</td>\n",
       "      <td>75</td>\n",
       "    </tr>\n",
       "    <tr>\n",
       "      <th>2</th>\n",
       "      <td>72</td>\n",
       "      <td>75</td>\n",
       "      <td>1</td>\n",
       "      <td>NaN</td>\n",
       "      <td>75.0</td>\n",
       "      <td>65</td>\n",
       "      <td>75</td>\n",
       "      <td>0.000114</td>\n",
       "      <td>0.0</td>\n",
       "      <td>1</td>\n",
       "      <td>75</td>\n",
       "    </tr>\n",
       "    <tr>\n",
       "      <th>3</th>\n",
       "      <td>96</td>\n",
       "      <td>84</td>\n",
       "      <td>0</td>\n",
       "      <td>84.0</td>\n",
       "      <td>NaN</td>\n",
       "      <td>84</td>\n",
       "      <td>97</td>\n",
       "      <td>0.302333</td>\n",
       "      <td>0.0</td>\n",
       "      <td>1</td>\n",
       "      <td>97</td>\n",
       "    </tr>\n",
       "    <tr>\n",
       "      <th>4</th>\n",
       "      <td>83</td>\n",
       "      <td>75</td>\n",
       "      <td>0</td>\n",
       "      <td>75.0</td>\n",
       "      <td>NaN</td>\n",
       "      <td>75</td>\n",
       "      <td>84</td>\n",
       "      <td>0.146756</td>\n",
       "      <td>0.0</td>\n",
       "      <td>0</td>\n",
       "      <td>75</td>\n",
       "    </tr>\n",
       "    <tr>\n",
       "      <th>5</th>\n",
       "      <td>72</td>\n",
       "      <td>74</td>\n",
       "      <td>1</td>\n",
       "      <td>NaN</td>\n",
       "      <td>74.0</td>\n",
       "      <td>65</td>\n",
       "      <td>74</td>\n",
       "      <td>0.092339</td>\n",
       "      <td>0.0</td>\n",
       "      <td>1</td>\n",
       "      <td>74</td>\n",
       "    </tr>\n",
       "    <tr>\n",
       "      <th>6</th>\n",
       "      <td>85</td>\n",
       "      <td>76</td>\n",
       "      <td>0</td>\n",
       "      <td>76.0</td>\n",
       "      <td>NaN</td>\n",
       "      <td>76</td>\n",
       "      <td>87</td>\n",
       "      <td>0.186260</td>\n",
       "      <td>0.0</td>\n",
       "      <td>1</td>\n",
       "      <td>87</td>\n",
       "    </tr>\n",
       "    <tr>\n",
       "      <th>7</th>\n",
       "      <td>87</td>\n",
       "      <td>77</td>\n",
       "      <td>0</td>\n",
       "      <td>77.0</td>\n",
       "      <td>NaN</td>\n",
       "      <td>77</td>\n",
       "      <td>89</td>\n",
       "      <td>0.345561</td>\n",
       "      <td>0.0</td>\n",
       "      <td>1</td>\n",
       "      <td>89</td>\n",
       "    </tr>\n",
       "    <tr>\n",
       "      <th>8</th>\n",
       "      <td>86</td>\n",
       "      <td>77</td>\n",
       "      <td>0</td>\n",
       "      <td>77.0</td>\n",
       "      <td>NaN</td>\n",
       "      <td>77</td>\n",
       "      <td>87</td>\n",
       "      <td>0.396767</td>\n",
       "      <td>0.0</td>\n",
       "      <td>1</td>\n",
       "      <td>87</td>\n",
       "    </tr>\n",
       "    <tr>\n",
       "      <th>9</th>\n",
       "      <td>77</td>\n",
       "      <td>80</td>\n",
       "      <td>1</td>\n",
       "      <td>NaN</td>\n",
       "      <td>80.0</td>\n",
       "      <td>70</td>\n",
       "      <td>80</td>\n",
       "      <td>0.538817</td>\n",
       "      <td>1.0</td>\n",
       "      <td>0</td>\n",
       "      <td>70</td>\n",
       "    </tr>\n",
       "    <tr>\n",
       "      <th>10</th>\n",
       "      <td>95</td>\n",
       "      <td>87</td>\n",
       "      <td>0</td>\n",
       "      <td>87.0</td>\n",
       "      <td>NaN</td>\n",
       "      <td>87</td>\n",
       "      <td>96</td>\n",
       "      <td>0.419195</td>\n",
       "      <td>0.0</td>\n",
       "      <td>0</td>\n",
       "      <td>87</td>\n",
       "    </tr>\n",
       "    <tr>\n",
       "      <th>11</th>\n",
       "      <td>84</td>\n",
       "      <td>75</td>\n",
       "      <td>0</td>\n",
       "      <td>75.0</td>\n",
       "      <td>NaN</td>\n",
       "      <td>75</td>\n",
       "      <td>85</td>\n",
       "      <td>0.685220</td>\n",
       "      <td>1.0</td>\n",
       "      <td>0</td>\n",
       "      <td>75</td>\n",
       "    </tr>\n",
       "    <tr>\n",
       "      <th>12</th>\n",
       "      <td>74</td>\n",
       "      <td>77</td>\n",
       "      <td>1</td>\n",
       "      <td>NaN</td>\n",
       "      <td>77.0</td>\n",
       "      <td>67</td>\n",
       "      <td>77</td>\n",
       "      <td>0.204452</td>\n",
       "      <td>0.0</td>\n",
       "      <td>1</td>\n",
       "      <td>77</td>\n",
       "    </tr>\n",
       "    <tr>\n",
       "      <th>13</th>\n",
       "      <td>58</td>\n",
       "      <td>61</td>\n",
       "      <td>1</td>\n",
       "      <td>NaN</td>\n",
       "      <td>61.0</td>\n",
       "      <td>52</td>\n",
       "      <td>61</td>\n",
       "      <td>0.878117</td>\n",
       "      <td>1.0</td>\n",
       "      <td>0</td>\n",
       "      <td>52</td>\n",
       "    </tr>\n",
       "    <tr>\n",
       "      <th>14</th>\n",
       "      <td>91</td>\n",
       "      <td>81</td>\n",
       "      <td>0</td>\n",
       "      <td>81.0</td>\n",
       "      <td>NaN</td>\n",
       "      <td>81</td>\n",
       "      <td>93</td>\n",
       "      <td>0.027388</td>\n",
       "      <td>0.0</td>\n",
       "      <td>1</td>\n",
       "      <td>93</td>\n",
       "    </tr>\n",
       "    <tr>\n",
       "      <th>15</th>\n",
       "      <td>80</td>\n",
       "      <td>72</td>\n",
       "      <td>0</td>\n",
       "      <td>72.0</td>\n",
       "      <td>NaN</td>\n",
       "      <td>72</td>\n",
       "      <td>84</td>\n",
       "      <td>0.670468</td>\n",
       "      <td>1.0</td>\n",
       "      <td>0</td>\n",
       "      <td>72</td>\n",
       "    </tr>\n",
       "    <tr>\n",
       "      <th>16</th>\n",
       "      <td>80</td>\n",
       "      <td>72</td>\n",
       "      <td>0</td>\n",
       "      <td>72.0</td>\n",
       "      <td>NaN</td>\n",
       "      <td>72</td>\n",
       "      <td>82</td>\n",
       "      <td>0.417305</td>\n",
       "      <td>0.0</td>\n",
       "      <td>1</td>\n",
       "      <td>82</td>\n",
       "    </tr>\n",
       "    <tr>\n",
       "      <th>17</th>\n",
       "      <td>89</td>\n",
       "      <td>80</td>\n",
       "      <td>0</td>\n",
       "      <td>80.0</td>\n",
       "      <td>NaN</td>\n",
       "      <td>80</td>\n",
       "      <td>89</td>\n",
       "      <td>0.558690</td>\n",
       "      <td>1.0</td>\n",
       "      <td>1</td>\n",
       "      <td>89</td>\n",
       "    </tr>\n",
       "    <tr>\n",
       "      <th>18</th>\n",
       "      <td>88</td>\n",
       "      <td>80</td>\n",
       "      <td>0</td>\n",
       "      <td>80.0</td>\n",
       "      <td>NaN</td>\n",
       "      <td>80</td>\n",
       "      <td>90</td>\n",
       "      <td>0.140387</td>\n",
       "      <td>0.0</td>\n",
       "      <td>0</td>\n",
       "      <td>80</td>\n",
       "    </tr>\n",
       "    <tr>\n",
       "      <th>19</th>\n",
       "      <td>86</td>\n",
       "      <td>78</td>\n",
       "      <td>0</td>\n",
       "      <td>78.0</td>\n",
       "      <td>NaN</td>\n",
       "      <td>78</td>\n",
       "      <td>87</td>\n",
       "      <td>0.198101</td>\n",
       "      <td>0.0</td>\n",
       "      <td>1</td>\n",
       "      <td>87</td>\n",
       "    </tr>\n",
       "  </tbody>\n",
       "</table>\n",
       "</div>"
      ],
      "text/plain": [
       "    x1  y3  t1    y0    y1  y0t  y1t        r0   r1  _r1  y2\n",
       "0   74  76   1   NaN  76.0   68   76  0.417022  0.0    0  68\n",
       "1   82  75   0  75.0   NaN   75   84  0.720324  1.0    0  75\n",
       "2   72  75   1   NaN  75.0   65   75  0.000114  0.0    1  75\n",
       "3   96  84   0  84.0   NaN   84   97  0.302333  0.0    1  97\n",
       "4   83  75   0  75.0   NaN   75   84  0.146756  0.0    0  75\n",
       "5   72  74   1   NaN  74.0   65   74  0.092339  0.0    1  74\n",
       "6   85  76   0  76.0   NaN   76   87  0.186260  0.0    1  87\n",
       "7   87  77   0  77.0   NaN   77   89  0.345561  0.0    1  89\n",
       "8   86  77   0  77.0   NaN   77   87  0.396767  0.0    1  87\n",
       "9   77  80   1   NaN  80.0   70   80  0.538817  1.0    0  70\n",
       "10  95  87   0  87.0   NaN   87   96  0.419195  0.0    0  87\n",
       "11  84  75   0  75.0   NaN   75   85  0.685220  1.0    0  75\n",
       "12  74  77   1   NaN  77.0   67   77  0.204452  0.0    1  77\n",
       "13  58  61   1   NaN  61.0   52   61  0.878117  1.0    0  52\n",
       "14  91  81   0  81.0   NaN   81   93  0.027388  0.0    1  93\n",
       "15  80  72   0  72.0   NaN   72   84  0.670468  1.0    0  72\n",
       "16  80  72   0  72.0   NaN   72   82  0.417305  0.0    1  82\n",
       "17  89  80   0  80.0   NaN   80   89  0.558690  1.0    1  89\n",
       "18  88  80   0  80.0   NaN   80   90  0.140387  0.0    0  80\n",
       "19  86  78   0  78.0   NaN   78   87  0.198101  0.0    1  87"
      ]
     },
     "metadata": {},
     "output_type": "display_data"
    }
   ],
   "source": [
    "np.random.seed(1)\n",
    "df = data02.copy()\n",
    "\n",
    "df['r0'] = np.random.uniform(0,1, size=20)\n",
    "df['r1'] = df['r0'].apply(np.round, 0)\n",
    "# 教科書の結果に合わせる\n",
    "df['_r1'] = _r1\n",
    "df['y2'] = df.apply(lambda x: x['y1t'] if x['_r1'] == 1 else x['y0t'], axis = 1)\n",
    "display(df)"
   ]
  },
  {
   "cell_type": "code",
   "execution_count": 18,
   "id": "eafd6cb9-349e-4124-91e0-73cbe3fa35c3",
   "metadata": {},
   "outputs": [
    {
     "data": {
      "text/html": [
       "<div>\n",
       "<style scoped>\n",
       "    .dataframe tbody tr th:only-of-type {\n",
       "        vertical-align: middle;\n",
       "    }\n",
       "\n",
       "    .dataframe tbody tr th {\n",
       "        vertical-align: top;\n",
       "    }\n",
       "\n",
       "    .dataframe thead th {\n",
       "        text-align: right;\n",
       "    }\n",
       "</style>\n",
       "<table border=\"1\" class=\"dataframe\">\n",
       "  <thead>\n",
       "    <tr style=\"text-align: right;\">\n",
       "      <th></th>\n",
       "      <th>result</th>\n",
       "    </tr>\n",
       "  </thead>\n",
       "  <tbody>\n",
       "    <tr>\n",
       "      <th>mr1</th>\n",
       "      <td>85.181818</td>\n",
       "    </tr>\n",
       "    <tr>\n",
       "      <th>mr0</th>\n",
       "      <td>72.666667</td>\n",
       "    </tr>\n",
       "    <tr>\n",
       "      <th>mr1 - mr0</th>\n",
       "      <td>12.515152</td>\n",
       "    </tr>\n",
       "  </tbody>\n",
       "</table>\n",
       "</div>"
      ],
      "text/plain": [
       "              result\n",
       "mr1        85.181818\n",
       "mr0        72.666667\n",
       "mr1 - mr0  12.515152"
      ]
     },
     "execution_count": 18,
     "metadata": {},
     "output_type": "execute_result"
    }
   ],
   "source": [
    "_mr1 = df.query('_r1 == 1')['y1t'].mean()\n",
    "_mr0 = df.query('_r1 == 0')['y0t'].mean()\n",
    "\n",
    "pd.DataFrame([{\n",
    "    'mr1': _mr1,\n",
    "    'mr0': _mr0,\n",
    "    'mr1 - mr0': _mr1 - _mr0,\n",
    "}], index=['result']).T"
   ]
  },
  {
   "cell_type": "markdown",
   "id": "052429db-b6fd-4da6-9434-c6b0cc92d773",
   "metadata": {},
   "source": [
    "## 2.10 2標本t検定"
   ]
  },
  {
   "cell_type": "markdown",
   "id": "3082bfe0-861c-4bdc-8946-52f7f221ca17",
   "metadata": {},
   "source": [
    "#### scipy版"
   ]
  },
  {
   "cell_type": "code",
   "execution_count": 19,
   "id": "07e608d9-a3fe-4065-8726-3667e37a0d5b",
   "metadata": {},
   "outputs": [
    {
     "data": {
      "text/plain": [
       "Ttest_indResult(statistic=3.2178051903997393, pvalue=0.005800978379825229)"
      ]
     },
     "metadata": {},
     "output_type": "display_data"
    }
   ],
   "source": [
    "ttest_result = scipy.stats.ttest_ind(df.query('_r1 == 1').y2, df.query('_r1 == 0').y2, equal_var=False)\n",
    "display(ttest_result)"
   ]
  },
  {
   "cell_type": "markdown",
   "id": "a3245619-65eb-4672-aa2f-e8dc4d501c92",
   "metadata": {},
   "source": [
    "#### statsmodels版（nassyemonはこっちを使う）"
   ]
  },
  {
   "cell_type": "code",
   "execution_count": 20,
   "id": "fe9202a4-aa4d-4267-be51-3341bfafa1d4",
   "metadata": {},
   "outputs": [
    {
     "name": "stdout",
     "output_type": "stream",
     "text": [
      "(3.2178051903997393, 0.005800978379825222, 14.877550058900113)\n",
      "(4.219264246524833, 20.811038783778198)\n"
     ]
    },
    {
     "data": {
      "text/html": [
       "<div>\n",
       "<style scoped>\n",
       "    .dataframe tbody tr th:only-of-type {\n",
       "        vertical-align: middle;\n",
       "    }\n",
       "\n",
       "    .dataframe tbody tr th {\n",
       "        vertical-align: top;\n",
       "    }\n",
       "\n",
       "    .dataframe thead th {\n",
       "        text-align: right;\n",
       "    }\n",
       "</style>\n",
       "<table border=\"1\" class=\"dataframe\">\n",
       "  <thead>\n",
       "    <tr style=\"text-align: right;\">\n",
       "      <th></th>\n",
       "      <th>welch-test result</th>\n",
       "    </tr>\n",
       "  </thead>\n",
       "  <tbody>\n",
       "    <tr>\n",
       "      <th>t-statistic</th>\n",
       "      <td>3.217805</td>\n",
       "    </tr>\n",
       "    <tr>\n",
       "      <th>p-value</th>\n",
       "      <td>0.005801</td>\n",
       "    </tr>\n",
       "    <tr>\n",
       "      <th>df</th>\n",
       "      <td>14.877550</td>\n",
       "    </tr>\n",
       "    <tr>\n",
       "      <th>confint_low</th>\n",
       "      <td>4.219264</td>\n",
       "    </tr>\n",
       "    <tr>\n",
       "      <th>confint_high</th>\n",
       "      <td>20.811039</td>\n",
       "    </tr>\n",
       "  </tbody>\n",
       "</table>\n",
       "</div>"
      ],
      "text/plain": [
       "              welch-test result\n",
       "t-statistic            3.217805\n",
       "p-value                0.005801\n",
       "df                    14.877550\n",
       "confint_low            4.219264\n",
       "confint_high          20.811039"
      ]
     },
     "execution_count": 20,
     "metadata": {},
     "output_type": "execute_result"
    }
   ],
   "source": [
    "cm = statsmodels.stats.weightstats.CompareMeans.from_data(df.query('_r1 == 1').y2, df.query('_r1 == 0').y2)\n",
    "_t_test_result = cm.ttest_ind(alternative='two-sided', usevar='unequal')\n",
    "_ttest_confint = cm.tconfint_diff(alternative='two-sided', usevar='unequal')\n",
    "print(_t_test_result)\n",
    "print(_ttest_confint)\n",
    "\n",
    "pd.DataFrame(\n",
    "    [*_t_test_result, *_ttest_confint],\n",
    "    index=['t-statistic', 'p-value', 'df', 'confint_low', 'confint_high'],\n",
    "    columns=['welch-test result'],\n",
    ")"
   ]
  }
 ],
 "metadata": {
  "kernelspec": {
   "display_name": "Python 3",
   "language": "python",
   "name": "python3"
  },
  "language_info": {
   "codemirror_mode": {
    "name": "ipython",
    "version": 3
   },
   "file_extension": ".py",
   "mimetype": "text/x-python",
   "name": "python",
   "nbconvert_exporter": "python",
   "pygments_lexer": "ipython3",
   "version": "3.8.10"
  }
 },
 "nbformat": 4,
 "nbformat_minor": 5
}
