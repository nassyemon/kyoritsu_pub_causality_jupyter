{
 "cells": [
  {
   "cell_type": "code",
   "execution_count": 1,
   "id": "45acdfda-e662-4d94-953a-be9caf434c38",
   "metadata": {},
   "outputs": [],
   "source": [
    "import pandas as pd\n",
    "import numpy as np\n",
    "import itertools\n",
    "import scipy.stats\n",
    "import statsmodels.stats.weightstats"
   ]
  },
  {
   "cell_type": "markdown",
   "id": "861cd493-6d58-4e7a-a8f8-10bc72edc7f9",
   "metadata": {},
   "source": [
    "## 4.1 標準誤差"
   ]
  },
  {
   "cell_type": "markdown",
   "id": "1e541919-bb3f-4d44-88b0-fb796e083317",
   "metadata": {},
   "source": [
    "### 表4.2 母数の集計"
   ]
  },
  {
   "cell_type": "code",
   "execution_count": 2,
   "id": "1dfbd5de-3738-4ca3-a5be-9df47757466f",
   "metadata": {},
   "outputs": [],
   "source": [
    "N1 = 4; n1 = 2\n",
    "x1 = np.array([165, 166, 171, 180], dtype=np.float64)\n",
    "mu = np.mean(x1)\n",
    "hensa = x1 - mu\n",
    "hensa2 = np.power(hensa,2)\n",
    "sigma2 = np.sum(hensa2)/N1\n",
    "sigma = np.sqrt(sigma2)"
   ]
  },
  {
   "cell_type": "code",
   "execution_count": 3,
   "id": "e8b6b0c2-b416-4074-89bd-d44f8fd9d259",
   "metadata": {},
   "outputs": [
    {
     "data": {
      "text/plain": [
       "170.5"
      ]
     },
     "execution_count": 3,
     "metadata": {},
     "output_type": "execute_result"
    }
   ],
   "source": [
    "mu"
   ]
  },
  {
   "cell_type": "code",
   "execution_count": 4,
   "id": "97e0a0ff-8a2d-4dd1-b2e5-b8c0944f4baf",
   "metadata": {},
   "outputs": [
    {
     "data": {
      "text/plain": [
       "5.937171043518958"
      ]
     },
     "execution_count": 4,
     "metadata": {},
     "output_type": "execute_result"
    }
   ],
   "source": [
    "sigma"
   ]
  },
  {
   "cell_type": "markdown",
   "id": "4320a9f1-d58c-4643-8749-3a8c9fbc0531",
   "metadata": {},
   "source": [
    "### 表4.4 標本サイズ2の全ての標本の抽出"
   ]
  },
  {
   "cell_type": "code",
   "execution_count": 5,
   "id": "f7c3915b-324b-4cba-a890-1b062c63f3fc",
   "metadata": {},
   "outputs": [],
   "source": [
    "xs = np.array(list(itertools.combinations(x1, 2)))\n",
    "xbars = np.apply_along_axis(np.mean, 1, xs)\n",
    "mub = np.mean(xbars)\n",
    "hensab = xbars - mub\n",
    "hensa2b = np.power(hensab, 2)\n",
    "sigma2b = np.sum(hensa2b)/6\n",
    "sigmab = np.sqrt(sigma2b)"
   ]
  },
  {
   "cell_type": "code",
   "execution_count": 6,
   "id": "76bf3fdd-2ab6-4be8-bda5-ae130ef4e1d8",
   "metadata": {},
   "outputs": [
    {
     "data": {
      "text/plain": [
       "array([[165., 166.],\n",
       "       [165., 171.],\n",
       "       [165., 180.],\n",
       "       [166., 171.],\n",
       "       [166., 180.],\n",
       "       [171., 180.]])"
      ]
     },
     "execution_count": 6,
     "metadata": {},
     "output_type": "execute_result"
    }
   ],
   "source": [
    "xs"
   ]
  },
  {
   "cell_type": "code",
   "execution_count": 7,
   "id": "28702ed3-8c1a-4bcf-a367-19e1cde128ef",
   "metadata": {},
   "outputs": [
    {
     "data": {
      "text/plain": [
       "170.5"
      ]
     },
     "execution_count": 7,
     "metadata": {},
     "output_type": "execute_result"
    }
   ],
   "source": [
    "mub"
   ]
  },
  {
   "cell_type": "code",
   "execution_count": 8,
   "id": "51069a7d-5e2b-4052-a8a6-ca7e56cf0ca0",
   "metadata": {},
   "outputs": [
    {
     "data": {
      "text/plain": [
       "array([165.5, 168. , 172.5, 168.5, 173. , 175.5])"
      ]
     },
     "execution_count": 8,
     "metadata": {},
     "output_type": "execute_result"
    }
   ],
   "source": [
    "xbars"
   ]
  },
  {
   "cell_type": "code",
   "execution_count": 9,
   "id": "76a7bd5e-a2cd-4db0-89a4-e24d1b446991",
   "metadata": {},
   "outputs": [
    {
     "data": {
      "text/plain": [
       "3.427827300200522"
      ]
     },
     "execution_count": 9,
     "metadata": {},
     "output_type": "execute_result"
    }
   ],
   "source": [
    "sigmab"
   ]
  },
  {
   "cell_type": "markdown",
   "id": "5c929b78-2320-4013-9225-934b7a449f81",
   "metadata": {},
   "source": [
    "### 表4.5 標準誤差の計算"
   ]
  },
  {
   "cell_type": "code",
   "execution_count": 10,
   "id": "9365913a-1fe6-4d30-82e8-377cc751d737",
   "metadata": {},
   "outputs": [],
   "source": [
    "se0 = sigma / np.sqrt(n1)\n",
    "correct = np.sqrt((N1 - n1)/(N1 - 1))\n",
    "se1 = se0 * correct"
   ]
  },
  {
   "cell_type": "code",
   "execution_count": 11,
   "id": "63ef9ce9-72c9-4ef1-ad2e-d68e4bb92a71",
   "metadata": {},
   "outputs": [
    {
     "data": {
      "text/plain": [
       "3.427827300200522"
      ]
     },
     "execution_count": 11,
     "metadata": {},
     "output_type": "execute_result"
    }
   ],
   "source": [
    "se1"
   ]
  },
  {
   "cell_type": "markdown",
   "id": "a42669d5-0a5b-4a57-aece-a695fa13c884",
   "metadata": {},
   "source": [
    "## 4.2 信頼区間"
   ]
  },
  {
   "cell_type": "markdown",
   "id": "44bb9963-12b4-4a8c-96c1-c041498b712a",
   "metadata": {},
   "source": [
    "### t分布のq分位点の確認 (4.14)"
   ]
  },
  {
   "cell_type": "code",
   "execution_count": 12,
   "id": "a66fbbd7-6911-44a8-a814-7e206bc7a41b",
   "metadata": {},
   "outputs": [
    {
     "data": {
      "text/plain": [
       "2.009575234489209"
      ]
     },
     "execution_count": 12,
     "metadata": {},
     "output_type": "execute_result"
    }
   ],
   "source": [
    "scipy.stats.t.ppf(1-0.025, 49)"
   ]
  },
  {
   "cell_type": "markdown",
   "id": "2d5ba1cc-b223-49d5-ae73-72eca22886c9",
   "metadata": {},
   "source": [
    "#### ファイル読み込み"
   ]
  },
  {
   "cell_type": "code",
   "execution_count": 13,
   "id": "54b2670c-4d9f-4f9c-a12f-473b7b513744",
   "metadata": {
    "tags": []
   },
   "outputs": [
    {
     "data": {
      "text/html": [
       "<div>\n",
       "<style scoped>\n",
       "    .dataframe tbody tr th:only-of-type {\n",
       "        vertical-align: middle;\n",
       "    }\n",
       "\n",
       "    .dataframe tbody tr th {\n",
       "        vertical-align: top;\n",
       "    }\n",
       "\n",
       "    .dataframe thead th {\n",
       "        text-align: right;\n",
       "    }\n",
       "</style>\n",
       "<table border=\"1\" class=\"dataframe\">\n",
       "  <thead>\n",
       "    <tr style=\"text-align: right;\">\n",
       "      <th></th>\n",
       "      <th>x1</th>\n",
       "      <th>y3</th>\n",
       "      <th>t1</th>\n",
       "      <th>y0</th>\n",
       "      <th>y1</th>\n",
       "      <th>y0t</th>\n",
       "      <th>y1t</th>\n",
       "    </tr>\n",
       "  </thead>\n",
       "  <tbody>\n",
       "    <tr>\n",
       "      <th>0</th>\n",
       "      <td>74</td>\n",
       "      <td>76</td>\n",
       "      <td>1</td>\n",
       "      <td>NaN</td>\n",
       "      <td>76.0</td>\n",
       "      <td>68</td>\n",
       "      <td>76</td>\n",
       "    </tr>\n",
       "    <tr>\n",
       "      <th>1</th>\n",
       "      <td>82</td>\n",
       "      <td>75</td>\n",
       "      <td>0</td>\n",
       "      <td>75.0</td>\n",
       "      <td>NaN</td>\n",
       "      <td>75</td>\n",
       "      <td>84</td>\n",
       "    </tr>\n",
       "    <tr>\n",
       "      <th>2</th>\n",
       "      <td>72</td>\n",
       "      <td>75</td>\n",
       "      <td>1</td>\n",
       "      <td>65.0</td>\n",
       "      <td>NaN</td>\n",
       "      <td>65</td>\n",
       "      <td>75</td>\n",
       "    </tr>\n",
       "    <tr>\n",
       "      <th>3</th>\n",
       "      <td>96</td>\n",
       "      <td>84</td>\n",
       "      <td>0</td>\n",
       "      <td>84.0</td>\n",
       "      <td>NaN</td>\n",
       "      <td>84</td>\n",
       "      <td>97</td>\n",
       "    </tr>\n",
       "    <tr>\n",
       "      <th>4</th>\n",
       "      <td>83</td>\n",
       "      <td>75</td>\n",
       "      <td>0</td>\n",
       "      <td>NaN</td>\n",
       "      <td>84.0</td>\n",
       "      <td>75</td>\n",
       "      <td>84</td>\n",
       "    </tr>\n",
       "    <tr>\n",
       "      <th>5</th>\n",
       "      <td>72</td>\n",
       "      <td>74</td>\n",
       "      <td>1</td>\n",
       "      <td>65.0</td>\n",
       "      <td>NaN</td>\n",
       "      <td>65</td>\n",
       "      <td>74</td>\n",
       "    </tr>\n",
       "    <tr>\n",
       "      <th>6</th>\n",
       "      <td>85</td>\n",
       "      <td>76</td>\n",
       "      <td>0</td>\n",
       "      <td>NaN</td>\n",
       "      <td>87.0</td>\n",
       "      <td>76</td>\n",
       "      <td>87</td>\n",
       "    </tr>\n",
       "    <tr>\n",
       "      <th>7</th>\n",
       "      <td>87</td>\n",
       "      <td>77</td>\n",
       "      <td>0</td>\n",
       "      <td>77.0</td>\n",
       "      <td>NaN</td>\n",
       "      <td>77</td>\n",
       "      <td>89</td>\n",
       "    </tr>\n",
       "    <tr>\n",
       "      <th>8</th>\n",
       "      <td>86</td>\n",
       "      <td>77</td>\n",
       "      <td>0</td>\n",
       "      <td>77.0</td>\n",
       "      <td>NaN</td>\n",
       "      <td>77</td>\n",
       "      <td>87</td>\n",
       "    </tr>\n",
       "    <tr>\n",
       "      <th>9</th>\n",
       "      <td>77</td>\n",
       "      <td>80</td>\n",
       "      <td>1</td>\n",
       "      <td>NaN</td>\n",
       "      <td>80.0</td>\n",
       "      <td>70</td>\n",
       "      <td>80</td>\n",
       "    </tr>\n",
       "    <tr>\n",
       "      <th>10</th>\n",
       "      <td>95</td>\n",
       "      <td>87</td>\n",
       "      <td>0</td>\n",
       "      <td>NaN</td>\n",
       "      <td>96.0</td>\n",
       "      <td>87</td>\n",
       "      <td>96</td>\n",
       "    </tr>\n",
       "    <tr>\n",
       "      <th>11</th>\n",
       "      <td>84</td>\n",
       "      <td>75</td>\n",
       "      <td>0</td>\n",
       "      <td>75.0</td>\n",
       "      <td>NaN</td>\n",
       "      <td>75</td>\n",
       "      <td>85</td>\n",
       "    </tr>\n",
       "    <tr>\n",
       "      <th>12</th>\n",
       "      <td>74</td>\n",
       "      <td>77</td>\n",
       "      <td>1</td>\n",
       "      <td>67.0</td>\n",
       "      <td>NaN</td>\n",
       "      <td>67</td>\n",
       "      <td>77</td>\n",
       "    </tr>\n",
       "    <tr>\n",
       "      <th>13</th>\n",
       "      <td>58</td>\n",
       "      <td>61</td>\n",
       "      <td>1</td>\n",
       "      <td>NaN</td>\n",
       "      <td>61.0</td>\n",
       "      <td>52</td>\n",
       "      <td>61</td>\n",
       "    </tr>\n",
       "    <tr>\n",
       "      <th>14</th>\n",
       "      <td>91</td>\n",
       "      <td>81</td>\n",
       "      <td>0</td>\n",
       "      <td>NaN</td>\n",
       "      <td>93.0</td>\n",
       "      <td>81</td>\n",
       "      <td>93</td>\n",
       "    </tr>\n",
       "    <tr>\n",
       "      <th>15</th>\n",
       "      <td>80</td>\n",
       "      <td>72</td>\n",
       "      <td>0</td>\n",
       "      <td>NaN</td>\n",
       "      <td>84.0</td>\n",
       "      <td>72</td>\n",
       "      <td>84</td>\n",
       "    </tr>\n",
       "    <tr>\n",
       "      <th>16</th>\n",
       "      <td>80</td>\n",
       "      <td>72</td>\n",
       "      <td>0</td>\n",
       "      <td>NaN</td>\n",
       "      <td>82.0</td>\n",
       "      <td>72</td>\n",
       "      <td>82</td>\n",
       "    </tr>\n",
       "    <tr>\n",
       "      <th>17</th>\n",
       "      <td>89</td>\n",
       "      <td>80</td>\n",
       "      <td>0</td>\n",
       "      <td>NaN</td>\n",
       "      <td>89.0</td>\n",
       "      <td>80</td>\n",
       "      <td>89</td>\n",
       "    </tr>\n",
       "    <tr>\n",
       "      <th>18</th>\n",
       "      <td>88</td>\n",
       "      <td>80</td>\n",
       "      <td>0</td>\n",
       "      <td>NaN</td>\n",
       "      <td>90.0</td>\n",
       "      <td>80</td>\n",
       "      <td>90</td>\n",
       "    </tr>\n",
       "    <tr>\n",
       "      <th>19</th>\n",
       "      <td>86</td>\n",
       "      <td>78</td>\n",
       "      <td>0</td>\n",
       "      <td>NaN</td>\n",
       "      <td>87.0</td>\n",
       "      <td>78</td>\n",
       "      <td>87</td>\n",
       "    </tr>\n",
       "  </tbody>\n",
       "</table>\n",
       "</div>"
      ],
      "text/plain": [
       "    x1  y3  t1    y0    y1  y0t  y1t\n",
       "0   74  76   1   NaN  76.0   68   76\n",
       "1   82  75   0  75.0   NaN   75   84\n",
       "2   72  75   1  65.0   NaN   65   75\n",
       "3   96  84   0  84.0   NaN   84   97\n",
       "4   83  75   0   NaN  84.0   75   84\n",
       "5   72  74   1  65.0   NaN   65   74\n",
       "6   85  76   0   NaN  87.0   76   87\n",
       "7   87  77   0  77.0   NaN   77   89\n",
       "8   86  77   0  77.0   NaN   77   87\n",
       "9   77  80   1   NaN  80.0   70   80\n",
       "10  95  87   0   NaN  96.0   87   96\n",
       "11  84  75   0  75.0   NaN   75   85\n",
       "12  74  77   1  67.0   NaN   67   77\n",
       "13  58  61   1   NaN  61.0   52   61\n",
       "14  91  81   0   NaN  93.0   81   93\n",
       "15  80  72   0   NaN  84.0   72   84\n",
       "16  80  72   0   NaN  82.0   72   82\n",
       "17  89  80   0   NaN  89.0   80   89\n",
       "18  88  80   0   NaN  90.0   80   90\n",
       "19  86  78   0   NaN  87.0   78   87"
      ]
     },
     "execution_count": 13,
     "metadata": {},
     "output_type": "execute_result"
    }
   ],
   "source": [
    "data04 = pd.read_csv('./causality/data04.csv')\n",
    "data04"
   ]
  },
  {
   "cell_type": "markdown",
   "id": "041370c5-8967-4571-89f6-b19994fd596d",
   "metadata": {
    "tags": []
   },
   "source": [
    "#### 要約統計量"
   ]
  },
  {
   "cell_type": "code",
   "execution_count": 14,
   "id": "5428b647-24b2-49db-836e-e60a883f27d5",
   "metadata": {
    "tags": []
   },
   "outputs": [
    {
     "data": {
      "text/html": [
       "<div>\n",
       "<style scoped>\n",
       "    .dataframe tbody tr th:only-of-type {\n",
       "        vertical-align: middle;\n",
       "    }\n",
       "\n",
       "    .dataframe tbody tr th {\n",
       "        vertical-align: top;\n",
       "    }\n",
       "\n",
       "    .dataframe thead th {\n",
       "        text-align: right;\n",
       "    }\n",
       "</style>\n",
       "<table border=\"1\" class=\"dataframe\">\n",
       "  <thead>\n",
       "    <tr style=\"text-align: right;\">\n",
       "      <th></th>\n",
       "      <th>x1</th>\n",
       "      <th>y3</th>\n",
       "      <th>t1</th>\n",
       "      <th>y0</th>\n",
       "      <th>y1</th>\n",
       "      <th>y0t</th>\n",
       "      <th>y1t</th>\n",
       "    </tr>\n",
       "  </thead>\n",
       "  <tbody>\n",
       "    <tr>\n",
       "      <th>count</th>\n",
       "      <td>20.000000</td>\n",
       "      <td>20.000000</td>\n",
       "      <td>20.000000</td>\n",
       "      <td>8.000000</td>\n",
       "      <td>12.000000</td>\n",
       "      <td>20.000000</td>\n",
       "      <td>20.000000</td>\n",
       "    </tr>\n",
       "    <tr>\n",
       "      <th>mean</th>\n",
       "      <td>81.950000</td>\n",
       "      <td>76.600000</td>\n",
       "      <td>0.300000</td>\n",
       "      <td>73.125000</td>\n",
       "      <td>84.083333</td>\n",
       "      <td>73.800000</td>\n",
       "      <td>83.850000</td>\n",
       "    </tr>\n",
       "    <tr>\n",
       "      <th>std</th>\n",
       "      <td>8.999854</td>\n",
       "      <td>5.245549</td>\n",
       "      <td>0.470162</td>\n",
       "      <td>6.812541</td>\n",
       "      <td>9.129954</td>\n",
       "      <td>7.898034</td>\n",
       "      <td>8.430989</td>\n",
       "    </tr>\n",
       "    <tr>\n",
       "      <th>min</th>\n",
       "      <td>58.000000</td>\n",
       "      <td>61.000000</td>\n",
       "      <td>0.000000</td>\n",
       "      <td>65.000000</td>\n",
       "      <td>61.000000</td>\n",
       "      <td>52.000000</td>\n",
       "      <td>61.000000</td>\n",
       "    </tr>\n",
       "    <tr>\n",
       "      <th>25%</th>\n",
       "      <td>76.250000</td>\n",
       "      <td>75.000000</td>\n",
       "      <td>0.000000</td>\n",
       "      <td>66.500000</td>\n",
       "      <td>81.500000</td>\n",
       "      <td>69.500000</td>\n",
       "      <td>79.250000</td>\n",
       "    </tr>\n",
       "    <tr>\n",
       "      <th>50%</th>\n",
       "      <td>83.500000</td>\n",
       "      <td>76.500000</td>\n",
       "      <td>0.000000</td>\n",
       "      <td>75.000000</td>\n",
       "      <td>85.500000</td>\n",
       "      <td>75.000000</td>\n",
       "      <td>84.500000</td>\n",
       "    </tr>\n",
       "    <tr>\n",
       "      <th>75%</th>\n",
       "      <td>87.250000</td>\n",
       "      <td>80.000000</td>\n",
       "      <td>1.000000</td>\n",
       "      <td>77.000000</td>\n",
       "      <td>89.250000</td>\n",
       "      <td>78.500000</td>\n",
       "      <td>89.000000</td>\n",
       "    </tr>\n",
       "    <tr>\n",
       "      <th>max</th>\n",
       "      <td>96.000000</td>\n",
       "      <td>87.000000</td>\n",
       "      <td>1.000000</td>\n",
       "      <td>84.000000</td>\n",
       "      <td>96.000000</td>\n",
       "      <td>87.000000</td>\n",
       "      <td>97.000000</td>\n",
       "    </tr>\n",
       "  </tbody>\n",
       "</table>\n",
       "</div>"
      ],
      "text/plain": [
       "              x1         y3         t1         y0         y1        y0t  \\\n",
       "count  20.000000  20.000000  20.000000   8.000000  12.000000  20.000000   \n",
       "mean   81.950000  76.600000   0.300000  73.125000  84.083333  73.800000   \n",
       "std     8.999854   5.245549   0.470162   6.812541   9.129954   7.898034   \n",
       "min    58.000000  61.000000   0.000000  65.000000  61.000000  52.000000   \n",
       "25%    76.250000  75.000000   0.000000  66.500000  81.500000  69.500000   \n",
       "50%    83.500000  76.500000   0.000000  75.000000  85.500000  75.000000   \n",
       "75%    87.250000  80.000000   1.000000  77.000000  89.250000  78.500000   \n",
       "max    96.000000  87.000000   1.000000  84.000000  96.000000  87.000000   \n",
       "\n",
       "             y1t  \n",
       "count  20.000000  \n",
       "mean   83.850000  \n",
       "std     8.430989  \n",
       "min    61.000000  \n",
       "25%    79.250000  \n",
       "50%    84.500000  \n",
       "75%    89.000000  \n",
       "max    97.000000  "
      ]
     },
     "execution_count": 14,
     "metadata": {},
     "output_type": "execute_result"
    }
   ],
   "source": [
    "data04.describe()"
   ]
  },
  {
   "cell_type": "markdown",
   "id": "238165d3-3a0e-4d8f-9a87-ba688192091f",
   "metadata": {},
   "source": [
    "### 4.2.3 信頼区間による対応のある場合の2標本t検定"
   ]
  },
  {
   "cell_type": "code",
   "execution_count": 15,
   "id": "8d015919-fe8a-4382-8abd-21bb4519de29",
   "metadata": {},
   "outputs": [],
   "source": [
    "n1 = len(data04)\n",
    "data04['diff'] = data04['y1t'] - data04['y0t']\n",
    "m1 = data04['diff'].mean()\n",
    "s1 = data04['diff'].std(ddof=1)\n",
    "talpha = scipy.stats.t.ppf(1-0.025, n1 - 1)"
   ]
  },
  {
   "cell_type": "code",
   "execution_count": 16,
   "id": "59b451ec-cf6e-4639-8f67-7df2430b3b03",
   "metadata": {},
   "outputs": [
    {
     "data": {
      "text/plain": [
       "10.666325491505752"
      ]
     },
     "execution_count": 16,
     "metadata": {},
     "output_type": "execute_result"
    }
   ],
   "source": [
    "m1 + talpha*s1/np.sqrt(n1)"
   ]
  },
  {
   "cell_type": "code",
   "execution_count": 17,
   "id": "9fd12b3c-dd18-492d-a577-b1be9160296b",
   "metadata": {},
   "outputs": [
    {
     "data": {
      "text/plain": [
       "9.43367450849425"
      ]
     },
     "execution_count": 17,
     "metadata": {},
     "output_type": "execute_result"
    }
   ],
   "source": [
    "m1 - talpha*s1/np.sqrt(n1)"
   ]
  },
  {
   "cell_type": "code",
   "execution_count": 18,
   "id": "21b41255-52b6-4d11-87c2-ced3142a137d",
   "metadata": {},
   "outputs": [
    {
     "name": "stdout",
     "output_type": "stream",
     "text": [
      "(34.12951766024227, 1.6291445414422036e-18, 19.0)\n",
      "(9.43367450849425, 10.666325491505752)\n"
     ]
    },
    {
     "data": {
      "text/html": [
       "<div>\n",
       "<style scoped>\n",
       "    .dataframe tbody tr th:only-of-type {\n",
       "        vertical-align: middle;\n",
       "    }\n",
       "\n",
       "    .dataframe tbody tr th {\n",
       "        vertical-align: top;\n",
       "    }\n",
       "\n",
       "    .dataframe thead th {\n",
       "        text-align: right;\n",
       "    }\n",
       "</style>\n",
       "<table border=\"1\" class=\"dataframe\">\n",
       "  <thead>\n",
       "    <tr style=\"text-align: right;\">\n",
       "      <th></th>\n",
       "      <th>t-test result</th>\n",
       "    </tr>\n",
       "  </thead>\n",
       "  <tbody>\n",
       "    <tr>\n",
       "      <th>t-statistic</th>\n",
       "      <td>3.412952e+01</td>\n",
       "    </tr>\n",
       "    <tr>\n",
       "      <th>p-value</th>\n",
       "      <td>1.629145e-18</td>\n",
       "    </tr>\n",
       "    <tr>\n",
       "      <th>df</th>\n",
       "      <td>1.900000e+01</td>\n",
       "    </tr>\n",
       "    <tr>\n",
       "      <th>confint_low</th>\n",
       "      <td>9.433675e+00</td>\n",
       "    </tr>\n",
       "    <tr>\n",
       "      <th>confint_high</th>\n",
       "      <td>1.066633e+01</td>\n",
       "    </tr>\n",
       "  </tbody>\n",
       "</table>\n",
       "</div>"
      ],
      "text/plain": [
       "              t-test result\n",
       "t-statistic    3.412952e+01\n",
       "p-value        1.629145e-18\n",
       "df             1.900000e+01\n",
       "confint_low    9.433675e+00\n",
       "confint_high   1.066633e+01"
      ]
     },
     "execution_count": 18,
     "metadata": {},
     "output_type": "execute_result"
    }
   ],
   "source": [
    "dsw = statsmodels.stats.weightstats.DescrStatsW(data04['diff'])\n",
    "_t_test_result = dsw.ttest_mean(alternative='two-sided')\n",
    "_ttest_confint = dsw.tconfint_mean(alternative='two-sided')\n",
    "print(_t_test_result)\n",
    "print(_ttest_confint)\n",
    "\n",
    "pd.DataFrame(\n",
    "    [*_t_test_result, *_ttest_confint],\n",
    "    index=['t-statistic', 'p-value', 'df', 'confint_low', 'confint_high'],\n",
    "    columns=['t-test result'],\n",
    ")"
   ]
  },
  {
   "cell_type": "markdown",
   "id": "c5fd34a7-a45f-48bc-ad34-55d108fab0c3",
   "metadata": {},
   "source": [
    "### 4.2.4 信頼区間による対応のない場合の2標本t検定"
   ]
  },
  {
   "cell_type": "code",
   "execution_count": 19,
   "id": "2ee1fbeb-1258-48cf-922b-4cf3e5369378",
   "metadata": {},
   "outputs": [],
   "source": [
    "y0obs = data04['y0'].dropna()\n",
    "y1obs = data04['y1'].dropna()\n",
    "n0 = len(y0obs)\n",
    "n1 = len(y1obs)\n",
    "s0 = y0obs.std(ddof=1)\n",
    "s1 = y1obs.std(ddof=1)\n",
    "num = (s1**2/n1 + s0**2/n0)**2\n",
    "denom = ((s1**2/n1)**2)/(n1-1) + ((s0**2/n0)**2)/(n0-1)\n",
    "df1 = num/denom\n",
    "xbar = y1obs.mean() - y0obs.mean()\n",
    "se1 = np.sqrt(s1**2/n1 + s0**2/n0)\n",
    "talpha = scipy.stats.t.ppf(1-0.025, df1)"
   ]
  },
  {
   "cell_type": "code",
   "execution_count": 20,
   "id": "1e6d6127-05b6-43b6-99c2-8724ecb3f118",
   "metadata": {},
   "outputs": [
    {
     "data": {
      "text/plain": [
       "18.469369847637893"
      ]
     },
     "execution_count": 20,
     "metadata": {},
     "output_type": "execute_result"
    }
   ],
   "source": [
    "xbar + talpha * se1"
   ]
  },
  {
   "cell_type": "code",
   "execution_count": 21,
   "id": "d4d7a9f7-cce0-4cbf-98f0-274de70aacec",
   "metadata": {},
   "outputs": [
    {
     "data": {
      "text/plain": [
       "3.4472968190287663"
      ]
     },
     "execution_count": 21,
     "metadata": {},
     "output_type": "execute_result"
    }
   ],
   "source": [
    "xbar - talpha * se1"
   ]
  },
  {
   "cell_type": "code",
   "execution_count": 22,
   "id": "4cec9e4c-42ec-416c-97f9-f46c2cc2cf45",
   "metadata": {},
   "outputs": [
    {
     "name": "stdout",
     "output_type": "stream",
     "text": [
      "(3.0692267168379623, 0.006714432861111201, 17.674073174398252)\n",
      "(3.447296819028768, 18.46936984763789)\n"
     ]
    },
    {
     "data": {
      "text/html": [
       "<div>\n",
       "<style scoped>\n",
       "    .dataframe tbody tr th:only-of-type {\n",
       "        vertical-align: middle;\n",
       "    }\n",
       "\n",
       "    .dataframe tbody tr th {\n",
       "        vertical-align: top;\n",
       "    }\n",
       "\n",
       "    .dataframe thead th {\n",
       "        text-align: right;\n",
       "    }\n",
       "</style>\n",
       "<table border=\"1\" class=\"dataframe\">\n",
       "  <thead>\n",
       "    <tr style=\"text-align: right;\">\n",
       "      <th></th>\n",
       "      <th>welch-test result</th>\n",
       "    </tr>\n",
       "  </thead>\n",
       "  <tbody>\n",
       "    <tr>\n",
       "      <th>t-statistic</th>\n",
       "      <td>3.069227</td>\n",
       "    </tr>\n",
       "    <tr>\n",
       "      <th>p-value</th>\n",
       "      <td>0.006714</td>\n",
       "    </tr>\n",
       "    <tr>\n",
       "      <th>df</th>\n",
       "      <td>17.674073</td>\n",
       "    </tr>\n",
       "    <tr>\n",
       "      <th>confint_low</th>\n",
       "      <td>3.447297</td>\n",
       "    </tr>\n",
       "    <tr>\n",
       "      <th>confint_high</th>\n",
       "      <td>18.469370</td>\n",
       "    </tr>\n",
       "  </tbody>\n",
       "</table>\n",
       "</div>"
      ],
      "text/plain": [
       "              welch-test result\n",
       "t-statistic            3.069227\n",
       "p-value                0.006714\n",
       "df                    17.674073\n",
       "confint_low            3.447297\n",
       "confint_high          18.469370"
      ]
     },
     "execution_count": 22,
     "metadata": {},
     "output_type": "execute_result"
    }
   ],
   "source": [
    "cm = statsmodels.stats.weightstats.CompareMeans.from_data(y1obs, y0obs)\n",
    "_t_test_result = cm.ttest_ind(alternative='two-sided', usevar='unequal')\n",
    "_ttest_confint = cm.tconfint_diff(alternative='two-sided', usevar='unequal')\n",
    "print(_t_test_result)\n",
    "print(_ttest_confint)\n",
    "\n",
    "pd.DataFrame(\n",
    "    [*_t_test_result, *_ttest_confint],\n",
    "    index=['t-statistic', 'p-value', 'df', 'confint_low', 'confint_high'],\n",
    "    columns=['welch-test result'],\n",
    ")"
   ]
  }
 ],
 "metadata": {
  "kernelspec": {
   "display_name": "Python 3",
   "language": "python",
   "name": "python3"
  },
  "language_info": {
   "codemirror_mode": {
    "name": "ipython",
    "version": 3
   },
   "file_extension": ".py",
   "mimetype": "text/x-python",
   "name": "python",
   "nbconvert_exporter": "python",
   "pygments_lexer": "ipython3",
   "version": "3.8.10"
  }
 },
 "nbformat": 4,
 "nbformat_minor": 5
}
