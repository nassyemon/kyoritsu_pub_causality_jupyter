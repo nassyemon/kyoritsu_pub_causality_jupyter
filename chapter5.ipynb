{
 "cells": [
  {
   "cell_type": "code",
   "execution_count": 1,
   "id": "cf5937ac-545a-40ea-ad47-99eb538f68b5",
   "metadata": {},
   "outputs": [],
   "source": [
    "import pandas as pd\n",
    "import numpy as np\n",
    "import matplotlib.pyplot as plt\n",
    "import seaborn as sns\n",
    "import statsmodels.formula.api as smf"
   ]
  },
  {
   "cell_type": "markdown",
   "id": "52af295c-b208-4a6a-a8ed-b82f10921685",
   "metadata": {},
   "source": [
    "### おまじない"
   ]
  },
  {
   "cell_type": "code",
   "execution_count": 2,
   "id": "bb3e3f85-d04d-4db1-a567-029b6f6bfb91",
   "metadata": {},
   "outputs": [],
   "source": [
    "sns.set(font='Yu Gothic')\n",
    "plt.rcParams['figure.figsize'] = [12, 8]\n",
    "plt.rcParams['figure.dpi'] = 100"
   ]
  },
  {
   "cell_type": "markdown",
   "id": "bf2199b4-b97f-49fc-93f4-696f1406c182",
   "metadata": {},
   "source": [
    "## 5.2 数値例で理解する最小二乗法"
   ]
  },
  {
   "cell_type": "markdown",
   "id": "c65d2478-1c2b-47ba-8151-bb2d9f98d267",
   "metadata": {},
   "source": [
    "### 表5.3"
   ]
  },
  {
   "cell_type": "code",
   "execution_count": 3,
   "id": "233fc7f3-00ec-4760-8edb-4986c1d2ac1f",
   "metadata": {},
   "outputs": [
    {
     "data": {
      "text/html": [
       "<div>\n",
       "<style scoped>\n",
       "    .dataframe tbody tr th:only-of-type {\n",
       "        vertical-align: middle;\n",
       "    }\n",
       "\n",
       "    .dataframe tbody tr th {\n",
       "        vertical-align: top;\n",
       "    }\n",
       "\n",
       "    .dataframe thead th {\n",
       "        text-align: right;\n",
       "    }\n",
       "</style>\n",
       "<table border=\"1\" class=\"dataframe\">\n",
       "  <thead>\n",
       "    <tr style=\"text-align: right;\">\n",
       "      <th></th>\n",
       "      <th>y1</th>\n",
       "      <th>x1</th>\n",
       "    </tr>\n",
       "  </thead>\n",
       "  <tbody>\n",
       "    <tr>\n",
       "      <th>0</th>\n",
       "      <td>40</td>\n",
       "      <td>5</td>\n",
       "    </tr>\n",
       "    <tr>\n",
       "      <th>1</th>\n",
       "      <td>20</td>\n",
       "      <td>1</td>\n",
       "    </tr>\n",
       "    <tr>\n",
       "      <th>2</th>\n",
       "      <td>50</td>\n",
       "      <td>3</td>\n",
       "    </tr>\n",
       "    <tr>\n",
       "      <th>3</th>\n",
       "      <td>10</td>\n",
       "      <td>2</td>\n",
       "    </tr>\n",
       "  </tbody>\n",
       "</table>\n",
       "</div>"
      ],
      "text/plain": [
       "   y1  x1\n",
       "0  40   5\n",
       "1  20   1\n",
       "2  50   3\n",
       "3  10   2"
      ]
     },
     "execution_count": 3,
     "metadata": {},
     "output_type": "execute_result"
    }
   ],
   "source": [
    "df = pd.DataFrame({\n",
    "    'y1': [40, 20, 50, 10],\n",
    "    'x1': [5, 1, 3, 2]\n",
    "})\n",
    "df"
   ]
  },
  {
   "cell_type": "markdown",
   "id": "49f51722-7dc3-4c58-b41f-7377e826de8e",
   "metadata": {},
   "source": [
    "### 図5.4"
   ]
  },
  {
   "cell_type": "code",
   "execution_count": 4,
   "id": "007e98f7-83b5-42c5-8838-7a0fc8020423",
   "metadata": {},
   "outputs": [
    {
     "data": {
      "text/plain": [
       "<AxesSubplot:xlabel='x1', ylabel='y1'>"
      ]
     },
     "execution_count": 4,
     "metadata": {},
     "output_type": "execute_result"
    },
    {
     "data": {
      "image/png": "[encoded data removed]",
      "text/plain": [
       "<Figure size 1200x800 with 1 Axes>"
      ]
     },
     "metadata": {},
     "output_type": "display_data"
    }
   ],
   "source": [
    "sns.scatterplot(data=df, x='x1', y='y1')"
   ]
  },
  {
   "cell_type": "markdown",
   "id": "08f46073-0b97-4578-a70b-b4a8d4fecef3",
   "metadata": {},
   "source": [
    "### 表5.4"
   ]
  },
  {
   "cell_type": "code",
   "execution_count": 5,
   "id": "affd037c-da4d-48cc-90f3-d019419c7f18",
   "metadata": {},
   "outputs": [
    {
     "data": {
      "text/html": [
       "<div>\n",
       "<style scoped>\n",
       "    .dataframe tbody tr th:only-of-type {\n",
       "        vertical-align: middle;\n",
       "    }\n",
       "\n",
       "    .dataframe tbody tr th {\n",
       "        vertical-align: top;\n",
       "    }\n",
       "\n",
       "    .dataframe thead th {\n",
       "        text-align: right;\n",
       "    }\n",
       "</style>\n",
       "<table border=\"1\" class=\"dataframe\">\n",
       "  <thead>\n",
       "    <tr style=\"text-align: right;\">\n",
       "      <th></th>\n",
       "      <th>yhat1</th>\n",
       "      <th>e1</th>\n",
       "    </tr>\n",
       "  </thead>\n",
       "  <tbody>\n",
       "    <tr>\n",
       "      <th>0</th>\n",
       "      <td>45.428</td>\n",
       "      <td>-5.428</td>\n",
       "    </tr>\n",
       "    <tr>\n",
       "      <th>1</th>\n",
       "      <td>18.000</td>\n",
       "      <td>2.000</td>\n",
       "    </tr>\n",
       "    <tr>\n",
       "      <th>2</th>\n",
       "      <td>31.714</td>\n",
       "      <td>18.286</td>\n",
       "    </tr>\n",
       "    <tr>\n",
       "      <th>3</th>\n",
       "      <td>24.857</td>\n",
       "      <td>-14.857</td>\n",
       "    </tr>\n",
       "  </tbody>\n",
       "</table>\n",
       "</div>"
      ],
      "text/plain": [
       "    yhat1      e1\n",
       "0  45.428  -5.428\n",
       "1  18.000   2.000\n",
       "2  31.714  18.286\n",
       "3  24.857 -14.857"
      ]
     },
     "metadata": {},
     "output_type": "display_data"
    }
   ],
   "source": [
    "df['yhat1'] = 11.143 + 6.857 * df['x1']\n",
    "df['e1'] = df['y1'] - df['yhat1']\n",
    "display(df[['yhat1', 'e1']])"
   ]
  },
  {
   "cell_type": "markdown",
   "id": "3c8a32f5-132e-498a-8344-ab1217c997dc",
   "metadata": {},
   "source": [
    "#### 表5.5"
   ]
  },
  {
   "cell_type": "code",
   "execution_count": 6,
   "id": "28bcca6e-0ecf-48cd-9c17-406270a1b6d9",
   "metadata": {},
   "outputs": [
    {
     "data": {
      "text/html": [
       "<div>\n",
       "<style scoped>\n",
       "    .dataframe tbody tr th:only-of-type {\n",
       "        vertical-align: middle;\n",
       "    }\n",
       "\n",
       "    .dataframe tbody tr th {\n",
       "        vertical-align: top;\n",
       "    }\n",
       "\n",
       "    .dataframe thead th {\n",
       "        text-align: right;\n",
       "    }\n",
       "</style>\n",
       "<table border=\"1\" class=\"dataframe\">\n",
       "  <thead>\n",
       "    <tr style=\"text-align: right;\">\n",
       "      <th></th>\n",
       "      <th>yhat2</th>\n",
       "      <th>e2</th>\n",
       "    </tr>\n",
       "  </thead>\n",
       "  <tbody>\n",
       "    <tr>\n",
       "      <th>0</th>\n",
       "      <td>54.545</td>\n",
       "      <td>-14.545</td>\n",
       "    </tr>\n",
       "    <tr>\n",
       "      <th>1</th>\n",
       "      <td>10.909</td>\n",
       "      <td>9.091</td>\n",
       "    </tr>\n",
       "    <tr>\n",
       "      <th>2</th>\n",
       "      <td>32.727</td>\n",
       "      <td>17.273</td>\n",
       "    </tr>\n",
       "    <tr>\n",
       "      <th>3</th>\n",
       "      <td>21.818</td>\n",
       "      <td>-11.818</td>\n",
       "    </tr>\n",
       "  </tbody>\n",
       "</table>\n",
       "</div>"
      ],
      "text/plain": [
       "    yhat2      e2\n",
       "0  54.545 -14.545\n",
       "1  10.909   9.091\n",
       "2  32.727  17.273\n",
       "3  21.818 -11.818"
      ]
     },
     "metadata": {},
     "output_type": "display_data"
    }
   ],
   "source": [
    "df['yhat2'] = 10.909 * df['x1']\n",
    "df['e2'] = df['y1'] - df['yhat2']\n",
    "display(df[['yhat2', 'e2']])"
   ]
  },
  {
   "cell_type": "markdown",
   "id": "847377ef-aba3-4232-8a79-50c2f7395dac",
   "metadata": {},
   "source": [
    "### 表5.6"
   ]
  },
  {
   "cell_type": "code",
   "execution_count": 7,
   "id": "f2de09e0-3102-43d3-a9bf-1b2d3271cf51",
   "metadata": {},
   "outputs": [
    {
     "data": {
      "text/plain": [
       "e1    0.001\n",
       "e2    0.001\n",
       "dtype: float64"
      ]
     },
     "execution_count": 7,
     "metadata": {},
     "output_type": "execute_result"
    }
   ],
   "source": [
    "df[['e1', 'e2']].sum()"
   ]
  },
  {
   "cell_type": "markdown",
   "id": "3f6140e0-e9ae-418b-b8f6-017aa1fb37da",
   "metadata": {},
   "source": [
    "### 表5.7"
   ]
  },
  {
   "cell_type": "code",
   "execution_count": 8,
   "id": "739681ae-64bc-4fa0-b886-d603517be898",
   "metadata": {},
   "outputs": [
    {
     "data": {
      "text/plain": [
       "e1b    588.571429\n",
       "e2b    732.224959\n",
       "dtype: float64"
      ]
     },
     "execution_count": 8,
     "metadata": {},
     "output_type": "execute_result"
    }
   ],
   "source": [
    "df['e1b'] = df['e1'] ** 2\n",
    "df['e2b'] = df['e2'] ** 2\n",
    "df[['e1b', 'e2b']].sum()"
   ]
  },
  {
   "cell_type": "markdown",
   "id": "d7d2805d-074b-41d5-ba99-5f61588ae275",
   "metadata": {},
   "source": [
    "## 5.3 種明かし：最小二乗法による切片と傾きの公式"
   ]
  },
  {
   "cell_type": "markdown",
   "id": "37b270fd-49a8-457d-b1d9-bc69a789fa96",
   "metadata": {},
   "source": [
    "### 表5.8"
   ]
  },
  {
   "cell_type": "code",
   "execution_count": 9,
   "id": "5809e16b-4b3e-4df7-813a-cf48b2dba11e",
   "metadata": {},
   "outputs": [],
   "source": [
    "xbar = df['x1'].mean()\n",
    "ybar = df['y1'].mean()"
   ]
  },
  {
   "cell_type": "code",
   "execution_count": 10,
   "id": "3112bb5b-c00c-4028-b17d-a7b7bbe7c76a",
   "metadata": {},
   "outputs": [
    {
     "data": {
      "text/plain": [
       "2.75"
      ]
     },
     "execution_count": 10,
     "metadata": {},
     "output_type": "execute_result"
    }
   ],
   "source": [
    "xbar"
   ]
  },
  {
   "cell_type": "code",
   "execution_count": 11,
   "id": "e1efed8f-fa0b-410e-8d8c-837047fa7a9b",
   "metadata": {},
   "outputs": [
    {
     "data": {
      "text/plain": [
       "30.0"
      ]
     },
     "execution_count": 11,
     "metadata": {},
     "output_type": "execute_result"
    }
   ],
   "source": [
    "ybar"
   ]
  },
  {
   "cell_type": "markdown",
   "id": "ef1c0367-9c10-4138-990f-a1004143490d",
   "metadata": {},
   "source": [
    "### 表5.9"
   ]
  },
  {
   "cell_type": "code",
   "execution_count": 12,
   "id": "ff08b970-5845-4e7a-896f-6711c01cd781",
   "metadata": {},
   "outputs": [
    {
     "data": {
      "text/html": [
       "<div>\n",
       "<style scoped>\n",
       "    .dataframe tbody tr th:only-of-type {\n",
       "        vertical-align: middle;\n",
       "    }\n",
       "\n",
       "    .dataframe tbody tr th {\n",
       "        vertical-align: top;\n",
       "    }\n",
       "\n",
       "    .dataframe thead th {\n",
       "        text-align: right;\n",
       "    }\n",
       "</style>\n",
       "<table border=\"1\" class=\"dataframe\">\n",
       "  <thead>\n",
       "    <tr style=\"text-align: right;\">\n",
       "      <th></th>\n",
       "      <th>hensax</th>\n",
       "      <th>hensay</th>\n",
       "    </tr>\n",
       "  </thead>\n",
       "  <tbody>\n",
       "    <tr>\n",
       "      <th>0</th>\n",
       "      <td>2.25</td>\n",
       "      <td>10.0</td>\n",
       "    </tr>\n",
       "    <tr>\n",
       "      <th>1</th>\n",
       "      <td>-1.75</td>\n",
       "      <td>-10.0</td>\n",
       "    </tr>\n",
       "    <tr>\n",
       "      <th>2</th>\n",
       "      <td>0.25</td>\n",
       "      <td>20.0</td>\n",
       "    </tr>\n",
       "    <tr>\n",
       "      <th>3</th>\n",
       "      <td>-0.75</td>\n",
       "      <td>-20.0</td>\n",
       "    </tr>\n",
       "  </tbody>\n",
       "</table>\n",
       "</div>"
      ],
      "text/plain": [
       "   hensax  hensay\n",
       "0    2.25    10.0\n",
       "1   -1.75   -10.0\n",
       "2    0.25    20.0\n",
       "3   -0.75   -20.0"
      ]
     },
     "execution_count": 12,
     "metadata": {},
     "output_type": "execute_result"
    }
   ],
   "source": [
    "df['hensax'] = df['x1'] - xbar\n",
    "df['hensay'] = df['y1'] - ybar\n",
    "df[['hensax', 'hensay']]"
   ]
  },
  {
   "cell_type": "markdown",
   "id": "d3d8ac86-a4b7-45b5-b6ce-6bb1a806e985",
   "metadata": {},
   "source": [
    "### 表5.10"
   ]
  },
  {
   "cell_type": "code",
   "execution_count": 13,
   "id": "96f72926-be82-4013-a2ae-70edf7504aea",
   "metadata": {},
   "outputs": [
    {
     "data": {
      "text/plain": [
       "60.0"
      ]
     },
     "execution_count": 13,
     "metadata": {},
     "output_type": "execute_result"
    }
   ],
   "source": [
    "df['hensaxy'] = df['hensax'] * df['hensay']\n",
    "num = df['hensaxy'].sum()\n",
    "num"
   ]
  },
  {
   "cell_type": "markdown",
   "id": "5a07c640-7d0b-4fff-a812-060b65bc3d2f",
   "metadata": {},
   "source": [
    "### 表5.11"
   ]
  },
  {
   "cell_type": "code",
   "execution_count": 14,
   "id": "770e8aa7-aac7-4fea-aae1-165ff6fc8f6e",
   "metadata": {},
   "outputs": [
    {
     "data": {
      "text/plain": [
       "8.75"
      ]
     },
     "execution_count": 14,
     "metadata": {},
     "output_type": "execute_result"
    }
   ],
   "source": [
    "df['hensax2'] = df['hensax'] **2\n",
    "denom = df['hensax2'].sum()\n",
    "denom"
   ]
  },
  {
   "cell_type": "markdown",
   "id": "c2ade5d6-5ffb-4ca8-861e-674083d5265c",
   "metadata": {},
   "source": [
    "### 表5.12"
   ]
  },
  {
   "cell_type": "code",
   "execution_count": 15,
   "id": "3eff346d-ff0d-4309-b66f-a61aecb738c7",
   "metadata": {},
   "outputs": [],
   "source": [
    "b1 = num/denom\n",
    "b0 = ybar - b1 * xbar"
   ]
  },
  {
   "cell_type": "code",
   "execution_count": 16,
   "id": "2ecdfffd-6be5-4c4a-a29c-bb97fc5c5a3e",
   "metadata": {},
   "outputs": [
    {
     "data": {
      "text/plain": [
       "6.857142857142857"
      ]
     },
     "execution_count": 16,
     "metadata": {},
     "output_type": "execute_result"
    }
   ],
   "source": [
    "b1"
   ]
  },
  {
   "cell_type": "code",
   "execution_count": 17,
   "id": "adec669f-6229-42a5-9cbd-c92cc23c92f5",
   "metadata": {},
   "outputs": [
    {
     "data": {
      "text/plain": [
       "11.142857142857142"
      ]
     },
     "execution_count": 17,
     "metadata": {},
     "output_type": "execute_result"
    }
   ],
   "source": [
    "b0"
   ]
  },
  {
   "cell_type": "markdown",
   "id": "616b3ced-552e-4166-8406-1ad49c3f02fb",
   "metadata": {},
   "source": [
    "### 表5.13"
   ]
  },
  {
   "cell_type": "code",
   "execution_count": 18,
   "id": "7f521831-6be6-4bc8-a777-3f86c70cdacd",
   "metadata": {},
   "outputs": [
    {
     "name": "stderr",
     "output_type": "stream",
     "text": [
      "c:\\users\\00991442\\appdata\\local\\programs\\python\\python38\\lib\\site-packages\\statsmodels\\stats\\stattools.py:74: ValueWarning: omni_normtest is not valid with less than 8 observations; 4 samples were given.\n",
      "  warn(\"omni_normtest is not valid with less than 8 observations; %i \"\n"
     ]
    },
    {
     "data": {
      "text/html": [
       "<table class=\"simpletable\">\n",
       "<caption>OLS Regression Results</caption>\n",
       "<tr>\n",
       "  <th>Dep. Variable:</th>           <td>y1</td>        <th>  R-squared:         </th> <td>   0.411</td>\n",
       "</tr>\n",
       "<tr>\n",
       "  <th>Model:</th>                   <td>OLS</td>       <th>  Adj. R-squared:    </th> <td>   0.117</td>\n",
       "</tr>\n",
       "<tr>\n",
       "  <th>Method:</th>             <td>Least Squares</td>  <th>  F-statistic:       </th> <td>   1.398</td>\n",
       "</tr>\n",
       "<tr>\n",
       "  <th>Date:</th>             <td>Thu, 14 Jul 2022</td> <th>  Prob (F-statistic):</th>  <td> 0.359</td> \n",
       "</tr>\n",
       "<tr>\n",
       "  <th>Time:</th>                 <td>19:25:14</td>     <th>  Log-Likelihood:    </th> <td> -15.659</td>\n",
       "</tr>\n",
       "<tr>\n",
       "  <th>No. Observations:</th>      <td>     4</td>      <th>  AIC:               </th> <td>   35.32</td>\n",
       "</tr>\n",
       "<tr>\n",
       "  <th>Df Residuals:</th>          <td>     2</td>      <th>  BIC:               </th> <td>   34.09</td>\n",
       "</tr>\n",
       "<tr>\n",
       "  <th>Df Model:</th>              <td>     1</td>      <th>                     </th>     <td> </td>   \n",
       "</tr>\n",
       "<tr>\n",
       "  <th>Covariance Type:</th>      <td>nonrobust</td>    <th>                     </th>     <td> </td>   \n",
       "</tr>\n",
       "</table>\n",
       "<table class=\"simpletable\">\n",
       "<tr>\n",
       "      <td></td>         <th>coef</th>     <th>std err</th>      <th>t</th>      <th>P>|t|</th>  <th>[0.025</th>    <th>0.975]</th>  \n",
       "</tr>\n",
       "<tr>\n",
       "  <th>Intercept</th> <td>   11.1429</td> <td>   18.109</td> <td>    0.615</td> <td> 0.601</td> <td>  -66.772</td> <td>   89.058</td>\n",
       "</tr>\n",
       "<tr>\n",
       "  <th>x1</th>        <td>    6.8571</td> <td>    5.799</td> <td>    1.182</td> <td> 0.359</td> <td>  -18.096</td> <td>   31.810</td>\n",
       "</tr>\n",
       "</table>\n",
       "<table class=\"simpletable\">\n",
       "<tr>\n",
       "  <th>Omnibus:</th>       <td>   nan</td> <th>  Durbin-Watson:     </th> <td>   2.411</td>\n",
       "</tr>\n",
       "<tr>\n",
       "  <th>Prob(Omnibus):</th> <td>   nan</td> <th>  Jarque-Bera (JB):  </th> <td>   0.309</td>\n",
       "</tr>\n",
       "<tr>\n",
       "  <th>Skew:</th>          <td> 0.376</td> <th>  Prob(JB):          </th> <td>   0.857</td>\n",
       "</tr>\n",
       "<tr>\n",
       "  <th>Kurtosis:</th>      <td> 1.864</td> <th>  Cond. No.          </th> <td>    7.13</td>\n",
       "</tr>\n",
       "</table><br/><br/>Notes:<br/>[1] Standard Errors assume that the covariance matrix of the errors is correctly specified."
      ],
      "text/plain": [
       "<class 'statsmodels.iolib.summary.Summary'>\n",
       "\"\"\"\n",
       "                            OLS Regression Results                            \n",
       "==============================================================================\n",
       "Dep. Variable:                     y1   R-squared:                       0.411\n",
       "Model:                            OLS   Adj. R-squared:                  0.117\n",
       "Method:                 Least Squares   F-statistic:                     1.398\n",
       "Date:                Thu, 14 Jul 2022   Prob (F-statistic):              0.359\n",
       "Time:                        19:25:14   Log-Likelihood:                -15.659\n",
       "No. Observations:                   4   AIC:                             35.32\n",
       "Df Residuals:                       2   BIC:                             34.09\n",
       "Df Model:                           1                                         \n",
       "Covariance Type:            nonrobust                                         \n",
       "==============================================================================\n",
       "                 coef    std err          t      P>|t|      [0.025      0.975]\n",
       "------------------------------------------------------------------------------\n",
       "Intercept     11.1429     18.109      0.615      0.601     -66.772      89.058\n",
       "x1             6.8571      5.799      1.182      0.359     -18.096      31.810\n",
       "==============================================================================\n",
       "Omnibus:                          nan   Durbin-Watson:                   2.411\n",
       "Prob(Omnibus):                    nan   Jarque-Bera (JB):                0.309\n",
       "Skew:                           0.376   Prob(JB):                        0.857\n",
       "Kurtosis:                       1.864   Cond. No.                         7.13\n",
       "==============================================================================\n",
       "\n",
       "Notes:\n",
       "[1] Standard Errors assume that the covariance matrix of the errors is correctly specified.\n",
       "\"\"\""
      ]
     },
     "execution_count": 18,
     "metadata": {},
     "output_type": "execute_result"
    }
   ],
   "source": [
    "model = smf.ols(formula='y1 ~ x1 ', data=df)\n",
    "res = model.fit(cov_type='nonrobust')\n",
    "res.summary()"
   ]
  },
  {
   "cell_type": "code",
   "execution_count": 19,
   "id": "a3394dd6-3349-4fda-8aed-0f559f342cd0",
   "metadata": {},
   "outputs": [
    {
     "data": {
      "text/plain": [
       "10.909090909090908"
      ]
     },
     "execution_count": 19,
     "metadata": {},
     "output_type": "execute_result"
    }
   ],
   "source": [
    "b1b = ybar/xbar\n",
    "b1b"
   ]
  },
  {
   "cell_type": "markdown",
   "id": "0c00e604-09aa-4cfd-8916-6a8442a2e9c7",
   "metadata": {},
   "source": [
    "## 5.4 数値例で理解する最小二乗法"
   ]
  },
  {
   "cell_type": "code",
   "execution_count": 20,
   "id": "9ff24372-0c05-4b37-8b7b-8e74a1c51d16",
   "metadata": {},
   "outputs": [
    {
     "data": {
      "text/html": [
       "<div>\n",
       "<style scoped>\n",
       "    .dataframe tbody tr th:only-of-type {\n",
       "        vertical-align: middle;\n",
       "    }\n",
       "\n",
       "    .dataframe tbody tr th {\n",
       "        vertical-align: top;\n",
       "    }\n",
       "\n",
       "    .dataframe thead th {\n",
       "        text-align: right;\n",
       "    }\n",
       "</style>\n",
       "<table border=\"1\" class=\"dataframe\">\n",
       "  <thead>\n",
       "    <tr style=\"text-align: right;\">\n",
       "      <th></th>\n",
       "      <th>y1</th>\n",
       "      <th>x1</th>\n",
       "    </tr>\n",
       "  </thead>\n",
       "  <tbody>\n",
       "    <tr>\n",
       "      <th>0</th>\n",
       "      <td>1</td>\n",
       "      <td>1</td>\n",
       "    </tr>\n",
       "    <tr>\n",
       "      <th>1</th>\n",
       "      <td>2</td>\n",
       "      <td>1</td>\n",
       "    </tr>\n",
       "    <tr>\n",
       "      <th>2</th>\n",
       "      <td>3</td>\n",
       "      <td>1</td>\n",
       "    </tr>\n",
       "    <tr>\n",
       "      <th>3</th>\n",
       "      <td>4</td>\n",
       "      <td>2</td>\n",
       "    </tr>\n",
       "    <tr>\n",
       "      <th>4</th>\n",
       "      <td>5</td>\n",
       "      <td>2</td>\n",
       "    </tr>\n",
       "    <tr>\n",
       "      <th>5</th>\n",
       "      <td>6</td>\n",
       "      <td>2</td>\n",
       "    </tr>\n",
       "    <tr>\n",
       "      <th>6</th>\n",
       "      <td>7</td>\n",
       "      <td>3</td>\n",
       "    </tr>\n",
       "    <tr>\n",
       "      <th>7</th>\n",
       "      <td>8</td>\n",
       "      <td>3</td>\n",
       "    </tr>\n",
       "    <tr>\n",
       "      <th>8</th>\n",
       "      <td>9</td>\n",
       "      <td>3</td>\n",
       "    </tr>\n",
       "  </tbody>\n",
       "</table>\n",
       "</div>"
      ],
      "text/plain": [
       "   y1  x1\n",
       "0   1   1\n",
       "1   2   1\n",
       "2   3   1\n",
       "3   4   2\n",
       "4   5   2\n",
       "5   6   2\n",
       "6   7   3\n",
       "7   8   3\n",
       "8   9   3"
      ]
     },
     "execution_count": 20,
     "metadata": {},
     "output_type": "execute_result"
    }
   ],
   "source": [
    "df2 = pd.DataFrame({\n",
    "    'y1': [1, 2, 3, 4, 5, 6, 7, 8, 9],\n",
    "    'x1': [1, 1, 1, 2, 2, 2, 3, 3, 3],\n",
    "})\n",
    "df2"
   ]
  },
  {
   "cell_type": "code",
   "execution_count": 21,
   "id": "203f758f-d8e1-40f2-a288-41326312b8c1",
   "metadata": {},
   "outputs": [
    {
     "data": {
      "text/plain": [
       "5.0"
      ]
     },
     "execution_count": 21,
     "metadata": {},
     "output_type": "execute_result"
    }
   ],
   "source": [
    "df2['y1'].mean()"
   ]
  },
  {
   "cell_type": "code",
   "execution_count": 22,
   "id": "5b138f8b-707f-4c79-8fcf-fd04adacf20b",
   "metadata": {},
   "outputs": [
    {
     "name": "stderr",
     "output_type": "stream",
     "text": [
      "c:\\users\\00991442\\appdata\\local\\programs\\python\\python38\\lib\\site-packages\\scipy\\stats\\stats.py:1603: UserWarning: kurtosistest only valid for n>=20 ... continuing anyway, n=9\n",
      "  warnings.warn(\"kurtosistest only valid for n>=20 ... continuing \"\n"
     ]
    },
    {
     "data": {
      "text/html": [
       "<table class=\"simpletable\">\n",
       "<caption>OLS Regression Results</caption>\n",
       "<tr>\n",
       "  <th>Dep. Variable:</th>           <td>y1</td>        <th>  R-squared:         </th> <td>   0.900</td>\n",
       "</tr>\n",
       "<tr>\n",
       "  <th>Model:</th>                   <td>OLS</td>       <th>  Adj. R-squared:    </th> <td>   0.886</td>\n",
       "</tr>\n",
       "<tr>\n",
       "  <th>Method:</th>             <td>Least Squares</td>  <th>  F-statistic:       </th> <td>   63.00</td>\n",
       "</tr>\n",
       "<tr>\n",
       "  <th>Date:</th>             <td>Thu, 14 Jul 2022</td> <th>  Prob (F-statistic):</th> <td>9.58e-05</td>\n",
       "</tr>\n",
       "<tr>\n",
       "  <th>Time:</th>                 <td>19:25:14</td>     <th>  Log-Likelihood:    </th> <td> -10.946</td>\n",
       "</tr>\n",
       "<tr>\n",
       "  <th>No. Observations:</th>      <td>     9</td>      <th>  AIC:               </th> <td>   25.89</td>\n",
       "</tr>\n",
       "<tr>\n",
       "  <th>Df Residuals:</th>          <td>     7</td>      <th>  BIC:               </th> <td>   26.29</td>\n",
       "</tr>\n",
       "<tr>\n",
       "  <th>Df Model:</th>              <td>     1</td>      <th>                     </th>     <td> </td>   \n",
       "</tr>\n",
       "<tr>\n",
       "  <th>Covariance Type:</th>      <td>nonrobust</td>    <th>                     </th>     <td> </td>   \n",
       "</tr>\n",
       "</table>\n",
       "<table class=\"simpletable\">\n",
       "<tr>\n",
       "      <td></td>         <th>coef</th>     <th>std err</th>      <th>t</th>      <th>P>|t|</th>  <th>[0.025</th>    <th>0.975]</th>  \n",
       "</tr>\n",
       "<tr>\n",
       "  <th>Intercept</th> <td>   -1.0000</td> <td>    0.816</td> <td>   -1.225</td> <td> 0.260</td> <td>   -2.931</td> <td>    0.931</td>\n",
       "</tr>\n",
       "<tr>\n",
       "  <th>x1</th>        <td>    3.0000</td> <td>    0.378</td> <td>    7.937</td> <td> 0.000</td> <td>    2.106</td> <td>    3.894</td>\n",
       "</tr>\n",
       "</table>\n",
       "<table class=\"simpletable\">\n",
       "<tr>\n",
       "  <th>Omnibus:</th>       <td> 2.380</td> <th>  Durbin-Watson:     </th> <td>   2.333</td>\n",
       "</tr>\n",
       "<tr>\n",
       "  <th>Prob(Omnibus):</th> <td> 0.304</td> <th>  Jarque-Bera (JB):  </th> <td>   0.844</td>\n",
       "</tr>\n",
       "<tr>\n",
       "  <th>Skew:</th>          <td> 0.000</td> <th>  Prob(JB):          </th> <td>   0.656</td>\n",
       "</tr>\n",
       "<tr>\n",
       "  <th>Kurtosis:</th>      <td> 1.500</td> <th>  Cond. No.          </th> <td>    6.79</td>\n",
       "</tr>\n",
       "</table><br/><br/>Notes:<br/>[1] Standard Errors assume that the covariance matrix of the errors is correctly specified."
      ],
      "text/plain": [
       "<class 'statsmodels.iolib.summary.Summary'>\n",
       "\"\"\"\n",
       "                            OLS Regression Results                            \n",
       "==============================================================================\n",
       "Dep. Variable:                     y1   R-squared:                       0.900\n",
       "Model:                            OLS   Adj. R-squared:                  0.886\n",
       "Method:                 Least Squares   F-statistic:                     63.00\n",
       "Date:                Thu, 14 Jul 2022   Prob (F-statistic):           9.58e-05\n",
       "Time:                        19:25:14   Log-Likelihood:                -10.946\n",
       "No. Observations:                   9   AIC:                             25.89\n",
       "Df Residuals:                       7   BIC:                             26.29\n",
       "Df Model:                           1                                         \n",
       "Covariance Type:            nonrobust                                         \n",
       "==============================================================================\n",
       "                 coef    std err          t      P>|t|      [0.025      0.975]\n",
       "------------------------------------------------------------------------------\n",
       "Intercept     -1.0000      0.816     -1.225      0.260      -2.931       0.931\n",
       "x1             3.0000      0.378      7.937      0.000       2.106       3.894\n",
       "==============================================================================\n",
       "Omnibus:                        2.380   Durbin-Watson:                   2.333\n",
       "Prob(Omnibus):                  0.304   Jarque-Bera (JB):                0.844\n",
       "Skew:                           0.000   Prob(JB):                        0.656\n",
       "Kurtosis:                       1.500   Cond. No.                         6.79\n",
       "==============================================================================\n",
       "\n",
       "Notes:\n",
       "[1] Standard Errors assume that the covariance matrix of the errors is correctly specified.\n",
       "\"\"\""
      ]
     },
     "execution_count": 22,
     "metadata": {},
     "output_type": "execute_result"
    }
   ],
   "source": [
    "model2 = smf.ols(formula='y1 ~ x1 ', data=df2)\n",
    "res2 = model2.fit()\n",
    "res2.summary()"
   ]
  },
  {
   "cell_type": "code",
   "execution_count": 23,
   "id": "41f87c87-f91f-4a9a-83b8-2da10986a9fa",
   "metadata": {},
   "outputs": [
    {
     "name": "stdout",
     "output_type": "stream",
     "text": [
      "2\n",
      "5\n",
      "8\n"
     ]
    }
   ],
   "source": [
    "print(-1 + 3 * 1)\n",
    "print(-1 + 3 * 2)\n",
    "print(-1 + 3 * 3)"
   ]
  },
  {
   "cell_type": "markdown",
   "id": "bd6f3a0a-55f8-42ed-9068-a4caa5d2e1a9",
   "metadata": {},
   "source": [
    "### 表5.17"
   ]
  },
  {
   "cell_type": "markdown",
   "id": "1d5399b1-0a11-4297-bcb7-467736551fc9",
   "metadata": {},
   "source": [
    "#### A.散布図"
   ]
  },
  {
   "cell_type": "code",
   "execution_count": 24,
   "id": "90d5c597-c94a-4ff6-9b33-def865dd7c18",
   "metadata": {},
   "outputs": [
    {
     "data": {
      "text/plain": [
       "<AxesSubplot:xlabel='x1', ylabel='y1'>"
      ]
     },
     "execution_count": 24,
     "metadata": {},
     "output_type": "execute_result"
    },
    {
     "data": {
      "image/png": "[encoded data removed]",
      "text/plain": [
       "<Figure size 1200x800 with 1 Axes>"
      ]
     },
     "metadata": {},
     "output_type": "display_data"
    }
   ],
   "source": [
    "sns.scatterplot(data=df2, x='x1', y='y1')"
   ]
  },
  {
   "cell_type": "markdown",
   "id": "a564aee1-4f6b-41b5-9df2-3f3647a59022",
   "metadata": {},
   "source": [
    "#### E[Y|X]"
   ]
  },
  {
   "cell_type": "code",
   "execution_count": 25,
   "id": "f3860609-ca5d-4626-aa07-d1bf599543cc",
   "metadata": {},
   "outputs": [
    {
     "data": {
      "text/plain": [
       "<AxesSubplot:xlabel='x1', ylabel='y1'>"
      ]
     },
     "execution_count": 25,
     "metadata": {},
     "output_type": "execute_result"
    },
    {
     "data": {
      "image/png": "[encoded data removed]",
      "text/plain": [
       "<Figure size 1200x800 with 1 Axes>"
      ]
     },
     "metadata": {},
     "output_type": "display_data"
    }
   ],
   "source": [
    "fig, ax = plt.subplots(figsize=(12, 8))\n",
    "# add the plots for each dataframe\n",
    "_ = ax.set(xlim=[0,4], ylim=[0,10])\n",
    "## 当てはめ値を計算\n",
    "xticks = np.arange(0,4,0.1)\n",
    "yhat = xticks*res2.params['x1']+res2.params['Intercept']\n",
    "\n",
    "sns.scatterplot(data=df2, x='x1', y='y1', ax=ax)\n",
    "sns.lineplot(x=xticks, y=yhat, ax=ax)"
   ]
  },
  {
   "cell_type": "markdown",
   "id": "5591ef67-3b76-41d9-8c57-b21f1faad0b5",
   "metadata": {},
   "source": [
    "###  表5.18"
   ]
  },
  {
   "cell_type": "code",
   "execution_count": 26,
   "id": "d88182ad-8cf5-4929-b9c5-a07d6ca02eca",
   "metadata": {},
   "outputs": [
    {
     "name": "stdout",
     "output_type": "stream",
     "text": [
      "2.0\n",
      "5.0\n",
      "8.0\n"
     ]
    }
   ],
   "source": [
    "print((1 + 2 + 3)/3)\n",
    "print((4 + 5 + 6)/3)\n",
    "print((7 + 8 + 9)/3)"
   ]
  },
  {
   "cell_type": "markdown",
   "id": "4e021fe4-91ca-46fe-9ee3-dd563e5a0bb6",
   "metadata": {},
   "source": [
    "## 5.5 最小二乗法による切片と傾きの公式（補遺）"
   ]
  },
  {
   "cell_type": "markdown",
   "id": "9c58ab4b-3d07-4ea4-9c42-21059d95edfc",
   "metadata": {},
   "source": [
    "### 表5.19"
   ]
  },
  {
   "cell_type": "code",
   "execution_count": 27,
   "id": "afec4fb0-88e0-4e25-9d68-c19d5e035183",
   "metadata": {},
   "outputs": [
    {
     "name": "stderr",
     "output_type": "stream",
     "text": [
      "c:\\users\\00991442\\appdata\\local\\programs\\python\\python38\\lib\\site-packages\\statsmodels\\stats\\stattools.py:74: ValueWarning: omni_normtest is not valid with less than 8 observations; 4 samples were given.\n",
      "  warn(\"omni_normtest is not valid with less than 8 observations; %i \"\n"
     ]
    },
    {
     "data": {
      "text/html": [
       "<table class=\"simpletable\">\n",
       "<caption>OLS Regression Results</caption>\n",
       "<tr>\n",
       "  <th>Dep. Variable:</th>           <td>y1</td>        <th>  R-squared:         </th> <td>   0.411</td>\n",
       "</tr>\n",
       "<tr>\n",
       "  <th>Model:</th>                   <td>OLS</td>       <th>  Adj. R-squared:    </th> <td>   0.117</td>\n",
       "</tr>\n",
       "<tr>\n",
       "  <th>Method:</th>             <td>Least Squares</td>  <th>  F-statistic:       </th> <td>   1.398</td>\n",
       "</tr>\n",
       "<tr>\n",
       "  <th>Date:</th>             <td>Thu, 14 Jul 2022</td> <th>  Prob (F-statistic):</th>  <td> 0.359</td> \n",
       "</tr>\n",
       "<tr>\n",
       "  <th>Time:</th>                 <td>19:25:14</td>     <th>  Log-Likelihood:    </th> <td> -15.659</td>\n",
       "</tr>\n",
       "<tr>\n",
       "  <th>No. Observations:</th>      <td>     4</td>      <th>  AIC:               </th> <td>   35.32</td>\n",
       "</tr>\n",
       "<tr>\n",
       "  <th>Df Residuals:</th>          <td>     2</td>      <th>  BIC:               </th> <td>   34.09</td>\n",
       "</tr>\n",
       "<tr>\n",
       "  <th>Df Model:</th>              <td>     1</td>      <th>                     </th>     <td> </td>   \n",
       "</tr>\n",
       "<tr>\n",
       "  <th>Covariance Type:</th>      <td>nonrobust</td>    <th>                     </th>     <td> </td>   \n",
       "</tr>\n",
       "</table>\n",
       "<table class=\"simpletable\">\n",
       "<tr>\n",
       "      <td></td>         <th>coef</th>     <th>std err</th>      <th>t</th>      <th>P>|t|</th>  <th>[0.025</th>    <th>0.975]</th>  \n",
       "</tr>\n",
       "<tr>\n",
       "  <th>Intercept</th> <td>   11.1429</td> <td>   18.109</td> <td>    0.615</td> <td> 0.601</td> <td>  -66.772</td> <td>   89.058</td>\n",
       "</tr>\n",
       "<tr>\n",
       "  <th>x1</th>        <td>    6.8571</td> <td>    5.799</td> <td>    1.182</td> <td> 0.359</td> <td>  -18.096</td> <td>   31.810</td>\n",
       "</tr>\n",
       "</table>\n",
       "<table class=\"simpletable\">\n",
       "<tr>\n",
       "  <th>Omnibus:</th>       <td>   nan</td> <th>  Durbin-Watson:     </th> <td>   2.411</td>\n",
       "</tr>\n",
       "<tr>\n",
       "  <th>Prob(Omnibus):</th> <td>   nan</td> <th>  Jarque-Bera (JB):  </th> <td>   0.309</td>\n",
       "</tr>\n",
       "<tr>\n",
       "  <th>Skew:</th>          <td> 0.376</td> <th>  Prob(JB):          </th> <td>   0.857</td>\n",
       "</tr>\n",
       "<tr>\n",
       "  <th>Kurtosis:</th>      <td> 1.864</td> <th>  Cond. No.          </th> <td>    7.13</td>\n",
       "</tr>\n",
       "</table><br/><br/>Notes:<br/>[1] Standard Errors assume that the covariance matrix of the errors is correctly specified."
      ],
      "text/plain": [
       "<class 'statsmodels.iolib.summary.Summary'>\n",
       "\"\"\"\n",
       "                            OLS Regression Results                            \n",
       "==============================================================================\n",
       "Dep. Variable:                     y1   R-squared:                       0.411\n",
       "Model:                            OLS   Adj. R-squared:                  0.117\n",
       "Method:                 Least Squares   F-statistic:                     1.398\n",
       "Date:                Thu, 14 Jul 2022   Prob (F-statistic):              0.359\n",
       "Time:                        19:25:14   Log-Likelihood:                -15.659\n",
       "No. Observations:                   4   AIC:                             35.32\n",
       "Df Residuals:                       2   BIC:                             34.09\n",
       "Df Model:                           1                                         \n",
       "Covariance Type:            nonrobust                                         \n",
       "==============================================================================\n",
       "                 coef    std err          t      P>|t|      [0.025      0.975]\n",
       "------------------------------------------------------------------------------\n",
       "Intercept     11.1429     18.109      0.615      0.601     -66.772      89.058\n",
       "x1             6.8571      5.799      1.182      0.359     -18.096      31.810\n",
       "==============================================================================\n",
       "Omnibus:                          nan   Durbin-Watson:                   2.411\n",
       "Prob(Omnibus):                    nan   Jarque-Bera (JB):                0.309\n",
       "Skew:                           0.376   Prob(JB):                        0.857\n",
       "Kurtosis:                       1.864   Cond. No.                         7.13\n",
       "==============================================================================\n",
       "\n",
       "Notes:\n",
       "[1] Standard Errors assume that the covariance matrix of the errors is correctly specified.\n",
       "\"\"\""
      ]
     },
     "execution_count": 27,
     "metadata": {},
     "output_type": "execute_result"
    }
   ],
   "source": [
    "df3 = pd.DataFrame({\n",
    "    'x1': [5, 1, 3, 2],\n",
    "    'y1': [40, 20, 50, 10],\n",
    "})\n",
    "model3 = smf.ols('y1 ~ x1', data=df3)\n",
    "res3 = model3.fit(cov_type='nonrobust')\n",
    "res3.summary()"
   ]
  },
  {
   "cell_type": "code",
   "execution_count": 28,
   "id": "237214d7-54cd-4f1d-88dd-71a022606569",
   "metadata": {},
   "outputs": [
    {
     "name": "stdout",
     "output_type": "stream",
     "text": [
      "588.5714285714287\n"
     ]
    }
   ],
   "source": [
    "bOLS = res.params['x1']\n",
    "ussOLS = np.sum(res3.resid ** 2)\n",
    "print(ussOLS)"
   ]
  },
  {
   "cell_type": "markdown",
   "id": "7ce62a73-6dbc-41e4-a699-5c11952b9d31",
   "metadata": {},
   "source": [
    "### 表5.20"
   ]
  },
  {
   "cell_type": "code",
   "execution_count": 29,
   "id": "63573d2f-291a-4f7f-ba21-7ccf09365d69",
   "metadata": {},
   "outputs": [],
   "source": [
    "b1 = np.ndarray(10000, dtype=np.float64)\n",
    "uss = np.ndarray(10000, dtype=np.float64)\n",
    "b1.fill(np.nan)\n",
    "uss.fill(np.nan)\n",
    "\n",
    "np.random.seed(1)\n",
    "for i in range(0, 10000):\n",
    "    a1 = 11.14286\n",
    "    b1[i] = np.random.uniform(-10, 25)\n",
    "    yhat = a1 + b1[i] * df3['x1']\n",
    "    uss[i] = ((df3['y1'] - yhat)**2).sum()"
   ]
  },
  {
   "cell_type": "markdown",
   "id": "2ac3d9a7-072f-49d5-9f4a-faf4e46066aa",
   "metadata": {},
   "source": [
    "### 表5.21"
   ]
  },
  {
   "cell_type": "code",
   "execution_count": 30,
   "id": "d3b5d139-b5f0-41ad-a333-ca0c9f6c39f8",
   "metadata": {},
   "outputs": [
    {
     "data": {
      "text/plain": [
       "count    10000.000000\n",
       "mean      4555.575421\n",
       "std       3574.446377\n",
       "min        588.571431\n",
       "25%       1312.217039\n",
       "50%       3541.491602\n",
       "75%       7271.503434\n",
       "max      13419.788411\n",
       "dtype: float64"
      ]
     },
     "metadata": {},
     "output_type": "display_data"
    },
    {
     "name": "stdout",
     "output_type": "stream",
     "text": [
      "588.5714285714287\n"
     ]
    }
   ],
   "source": [
    "display(pd.Series(uss).describe())\n",
    "print(ussOLS)"
   ]
  },
  {
   "cell_type": "markdown",
   "id": "cf8111db-4597-41bc-b074-1c458c664b48",
   "metadata": {},
   "source": [
    "### 表5.22"
   ]
  },
  {
   "cell_type": "code",
   "execution_count": 31,
   "id": "d4c812ed-d08d-4789-8b47-0e7c895a45a4",
   "metadata": {},
   "outputs": [
    {
     "data": {
      "text/plain": [
       "<matplotlib.lines.Line2D at 0x1f35fff7d00>"
      ]
     },
     "execution_count": 31,
     "metadata": {},
     "output_type": "execute_result"
    },
    {
     "data": {
      "image/png": "[encoded data removed]",
      "text/plain": [
       "<Figure size 1200x800 with 1 Axes>"
      ]
     },
     "metadata": {},
     "output_type": "display_data"
    }
   ],
   "source": [
    "ax = sns.scatterplot(x=b1, y=uss)\n",
    "ax.axvline(bOLS, color='tab:orange')\n",
    "ax.axhline(ussOLS, color='tab:orange')"
   ]
  }
 ],
 "metadata": {
  "kernelspec": {
   "display_name": "Python 3",
   "language": "python",
   "name": "python3"
  },
  "language_info": {
   "codemirror_mode": {
    "name": "ipython",
    "version": 3
   },
   "file_extension": ".py",
   "mimetype": "text/x-python",
   "name": "python",
   "nbconvert_exporter": "python",
   "pygments_lexer": "ipython3",
   "version": "3.8.10"
  }
 },
 "nbformat": 4,
 "nbformat_minor": 5
}
